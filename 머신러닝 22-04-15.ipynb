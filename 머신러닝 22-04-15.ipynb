{
 "cells": [
  {
   "cell_type": "markdown",
   "id": "11573b65",
   "metadata": {},
   "source": [
    "#### Grid Search 실습"
   ]
  },
  {
   "cell_type": "code",
   "execution_count": 4,
   "id": "473abc12",
   "metadata": {},
   "outputs": [
    {
     "data": {
      "text/plain": [
       "((1797, 64), (1797,))"
      ]
     },
     "execution_count": 4,
     "metadata": {},
     "output_type": "execute_result"
    }
   ],
   "source": [
    "from sklearn.datasets import load_digits\n",
    "digits = load_digits()\n",
    "digits['data'].shape, digits['target'].shape"
   ]
  },
  {
   "cell_type": "code",
   "execution_count": 6,
   "id": "8021cab2",
   "metadata": {},
   "outputs": [],
   "source": [
    "from sklearn.neighbors import KNeighborsClassifier\n",
    "from sklearn.model_selection import GridSearchCV\n",
    "\n",
    "model = KNeighborsClassifier()\n",
    "\n",
    "params = {\n",
    "    'n_neighbors' : range(1,10),\n",
    "}\n",
    "gs = GridSearchCV(model, params).fit(digits['data'],\n",
    "                                    digits['target'])"
   ]
  },
  {
   "cell_type": "code",
   "execution_count": 7,
   "id": "4ab8ec02",
   "metadata": {},
   "outputs": [
    {
     "data": {
      "text/html": [
       "<div>\n",
       "<style scoped>\n",
       "    .dataframe tbody tr th:only-of-type {\n",
       "        vertical-align: middle;\n",
       "    }\n",
       "\n",
       "    .dataframe tbody tr th {\n",
       "        vertical-align: top;\n",
       "    }\n",
       "\n",
       "    .dataframe thead th {\n",
       "        text-align: right;\n",
       "    }\n",
       "</style>\n",
       "<table border=\"1\" class=\"dataframe\">\n",
       "  <thead>\n",
       "    <tr style=\"text-align: right;\">\n",
       "      <th></th>\n",
       "      <th>mean_fit_time</th>\n",
       "      <th>std_fit_time</th>\n",
       "      <th>mean_score_time</th>\n",
       "      <th>std_score_time</th>\n",
       "      <th>param_n_neighbors</th>\n",
       "      <th>params</th>\n",
       "      <th>split0_test_score</th>\n",
       "      <th>split1_test_score</th>\n",
       "      <th>split2_test_score</th>\n",
       "      <th>split3_test_score</th>\n",
       "      <th>split4_test_score</th>\n",
       "      <th>mean_test_score</th>\n",
       "      <th>std_test_score</th>\n",
       "      <th>rank_test_score</th>\n",
       "    </tr>\n",
       "  </thead>\n",
       "  <tbody>\n",
       "    <tr>\n",
       "      <th>0</th>\n",
       "      <td>0.001597</td>\n",
       "      <td>4.884233e-04</td>\n",
       "      <td>0.031126</td>\n",
       "      <td>0.015515</td>\n",
       "      <td>1</td>\n",
       "      <td>{'n_neighbors': 1}</td>\n",
       "      <td>0.961111</td>\n",
       "      <td>0.952778</td>\n",
       "      <td>0.966574</td>\n",
       "      <td>0.986072</td>\n",
       "      <td>0.955432</td>\n",
       "      <td>0.964393</td>\n",
       "      <td>0.011838</td>\n",
       "      <td>3</td>\n",
       "    </tr>\n",
       "    <tr>\n",
       "      <th>1</th>\n",
       "      <td>0.001398</td>\n",
       "      <td>4.896008e-04</td>\n",
       "      <td>0.026726</td>\n",
       "      <td>0.002554</td>\n",
       "      <td>2</td>\n",
       "      <td>{'n_neighbors': 2}</td>\n",
       "      <td>0.961111</td>\n",
       "      <td>0.966667</td>\n",
       "      <td>0.969359</td>\n",
       "      <td>0.977716</td>\n",
       "      <td>0.961003</td>\n",
       "      <td>0.967171</td>\n",
       "      <td>0.006181</td>\n",
       "      <td>1</td>\n",
       "    </tr>\n",
       "    <tr>\n",
       "      <th>2</th>\n",
       "      <td>0.001597</td>\n",
       "      <td>4.887735e-04</td>\n",
       "      <td>0.027126</td>\n",
       "      <td>0.004387</td>\n",
       "      <td>3</td>\n",
       "      <td>{'n_neighbors': 3}</td>\n",
       "      <td>0.955556</td>\n",
       "      <td>0.958333</td>\n",
       "      <td>0.966574</td>\n",
       "      <td>0.986072</td>\n",
       "      <td>0.966574</td>\n",
       "      <td>0.966622</td>\n",
       "      <td>0.010672</td>\n",
       "      <td>2</td>\n",
       "    </tr>\n",
       "    <tr>\n",
       "      <th>3</th>\n",
       "      <td>0.001403</td>\n",
       "      <td>4.813934e-04</td>\n",
       "      <td>0.028924</td>\n",
       "      <td>0.004549</td>\n",
       "      <td>4</td>\n",
       "      <td>{'n_neighbors': 4}</td>\n",
       "      <td>0.947222</td>\n",
       "      <td>0.958333</td>\n",
       "      <td>0.966574</td>\n",
       "      <td>0.980501</td>\n",
       "      <td>0.966574</td>\n",
       "      <td>0.963841</td>\n",
       "      <td>0.010946</td>\n",
       "      <td>4</td>\n",
       "    </tr>\n",
       "    <tr>\n",
       "      <th>4</th>\n",
       "      <td>0.000998</td>\n",
       "      <td>9.584308e-07</td>\n",
       "      <td>0.028722</td>\n",
       "      <td>0.003052</td>\n",
       "      <td>5</td>\n",
       "      <td>{'n_neighbors': 5}</td>\n",
       "      <td>0.947222</td>\n",
       "      <td>0.955556</td>\n",
       "      <td>0.966574</td>\n",
       "      <td>0.980501</td>\n",
       "      <td>0.963788</td>\n",
       "      <td>0.962728</td>\n",
       "      <td>0.011169</td>\n",
       "      <td>5</td>\n",
       "    </tr>\n",
       "    <tr>\n",
       "      <th>5</th>\n",
       "      <td>0.001198</td>\n",
       "      <td>3.984249e-04</td>\n",
       "      <td>0.029320</td>\n",
       "      <td>0.003127</td>\n",
       "      <td>6</td>\n",
       "      <td>{'n_neighbors': 6}</td>\n",
       "      <td>0.944444</td>\n",
       "      <td>0.958333</td>\n",
       "      <td>0.966574</td>\n",
       "      <td>0.974930</td>\n",
       "      <td>0.952646</td>\n",
       "      <td>0.959386</td>\n",
       "      <td>0.010612</td>\n",
       "      <td>7</td>\n",
       "    </tr>\n",
       "    <tr>\n",
       "      <th>6</th>\n",
       "      <td>0.000997</td>\n",
       "      <td>1.614219e-06</td>\n",
       "      <td>0.032114</td>\n",
       "      <td>0.003117</td>\n",
       "      <td>7</td>\n",
       "      <td>{'n_neighbors': 7}</td>\n",
       "      <td>0.936111</td>\n",
       "      <td>0.961111</td>\n",
       "      <td>0.969359</td>\n",
       "      <td>0.980501</td>\n",
       "      <td>0.952646</td>\n",
       "      <td>0.959946</td>\n",
       "      <td>0.015059</td>\n",
       "      <td>6</td>\n",
       "    </tr>\n",
       "    <tr>\n",
       "      <th>7</th>\n",
       "      <td>0.001198</td>\n",
       "      <td>3.985175e-04</td>\n",
       "      <td>0.030118</td>\n",
       "      <td>0.002035</td>\n",
       "      <td>8</td>\n",
       "      <td>{'n_neighbors': 8}</td>\n",
       "      <td>0.936111</td>\n",
       "      <td>0.958333</td>\n",
       "      <td>0.969359</td>\n",
       "      <td>0.977716</td>\n",
       "      <td>0.949861</td>\n",
       "      <td>0.958276</td>\n",
       "      <td>0.014580</td>\n",
       "      <td>8</td>\n",
       "    </tr>\n",
       "    <tr>\n",
       "      <th>8</th>\n",
       "      <td>0.001197</td>\n",
       "      <td>3.997089e-04</td>\n",
       "      <td>0.028530</td>\n",
       "      <td>0.003615</td>\n",
       "      <td>9</td>\n",
       "      <td>{'n_neighbors': 9}</td>\n",
       "      <td>0.930556</td>\n",
       "      <td>0.952778</td>\n",
       "      <td>0.972145</td>\n",
       "      <td>0.977716</td>\n",
       "      <td>0.949861</td>\n",
       "      <td>0.956611</td>\n",
       "      <td>0.016887</td>\n",
       "      <td>9</td>\n",
       "    </tr>\n",
       "  </tbody>\n",
       "</table>\n",
       "</div>"
      ],
      "text/plain": [
       "   mean_fit_time  std_fit_time  mean_score_time  std_score_time  \\\n",
       "0       0.001597  4.884233e-04         0.031126        0.015515   \n",
       "1       0.001398  4.896008e-04         0.026726        0.002554   \n",
       "2       0.001597  4.887735e-04         0.027126        0.004387   \n",
       "3       0.001403  4.813934e-04         0.028924        0.004549   \n",
       "4       0.000998  9.584308e-07         0.028722        0.003052   \n",
       "5       0.001198  3.984249e-04         0.029320        0.003127   \n",
       "6       0.000997  1.614219e-06         0.032114        0.003117   \n",
       "7       0.001198  3.985175e-04         0.030118        0.002035   \n",
       "8       0.001197  3.997089e-04         0.028530        0.003615   \n",
       "\n",
       "  param_n_neighbors              params  split0_test_score  split1_test_score  \\\n",
       "0                 1  {'n_neighbors': 1}           0.961111           0.952778   \n",
       "1                 2  {'n_neighbors': 2}           0.961111           0.966667   \n",
       "2                 3  {'n_neighbors': 3}           0.955556           0.958333   \n",
       "3                 4  {'n_neighbors': 4}           0.947222           0.958333   \n",
       "4                 5  {'n_neighbors': 5}           0.947222           0.955556   \n",
       "5                 6  {'n_neighbors': 6}           0.944444           0.958333   \n",
       "6                 7  {'n_neighbors': 7}           0.936111           0.961111   \n",
       "7                 8  {'n_neighbors': 8}           0.936111           0.958333   \n",
       "8                 9  {'n_neighbors': 9}           0.930556           0.952778   \n",
       "\n",
       "   split2_test_score  split3_test_score  split4_test_score  mean_test_score  \\\n",
       "0           0.966574           0.986072           0.955432         0.964393   \n",
       "1           0.969359           0.977716           0.961003         0.967171   \n",
       "2           0.966574           0.986072           0.966574         0.966622   \n",
       "3           0.966574           0.980501           0.966574         0.963841   \n",
       "4           0.966574           0.980501           0.963788         0.962728   \n",
       "5           0.966574           0.974930           0.952646         0.959386   \n",
       "6           0.969359           0.980501           0.952646         0.959946   \n",
       "7           0.969359           0.977716           0.949861         0.958276   \n",
       "8           0.972145           0.977716           0.949861         0.956611   \n",
       "\n",
       "   std_test_score  rank_test_score  \n",
       "0        0.011838                3  \n",
       "1        0.006181                1  \n",
       "2        0.010672                2  \n",
       "3        0.010946                4  \n",
       "4        0.011169                5  \n",
       "5        0.010612                7  \n",
       "6        0.015059                6  \n",
       "7        0.014580                8  \n",
       "8        0.016887                9  "
      ]
     },
     "execution_count": 7,
     "metadata": {},
     "output_type": "execute_result"
    }
   ],
   "source": [
    "report = pd.DataFrame(gs.cv_results_)\n",
    "report"
   ]
  },
  {
   "cell_type": "code",
   "execution_count": 10,
   "id": "b6ebb633",
   "metadata": {},
   "outputs": [
    {
     "data": {
      "text/plain": [
       "0.9671711544413494"
      ]
     },
     "execution_count": 10,
     "metadata": {},
     "output_type": "execute_result"
    }
   ],
   "source": [
    "gs.best_score_"
   ]
  },
  {
   "cell_type": "code",
   "execution_count": 11,
   "id": "e27d34ea",
   "metadata": {},
   "outputs": [
    {
     "data": {
      "text/plain": [
       "{'n_neighbors': 2}"
      ]
     },
     "execution_count": 11,
     "metadata": {},
     "output_type": "execute_result"
    }
   ],
   "source": [
    "gs.best_params_"
   ]
  },
  {
   "cell_type": "code",
   "execution_count": 12,
   "id": "c9285feb",
   "metadata": {},
   "outputs": [
    {
     "data": {
      "text/plain": [
       "KNeighborsClassifier(n_neighbors=2)"
      ]
     },
     "execution_count": 12,
     "metadata": {},
     "output_type": "execute_result"
    }
   ],
   "source": [
    "gs.best_estimator_"
   ]
  },
  {
   "cell_type": "code",
   "execution_count": 14,
   "id": "bd4095f0",
   "metadata": {},
   "outputs": [
    {
     "data": {
      "text/plain": [
       "array([0.94722222, 0.95555556, 0.96657382, 0.98050139, 0.9637883 ])"
      ]
     },
     "execution_count": 14,
     "metadata": {},
     "output_type": "execute_result"
    }
   ],
   "source": [
    "from sklearn.model_selection import cross_val_score\n",
    "cross_val_score(model, digits['data'],digits['target'],cv=5)"
   ]
  },
  {
   "cell_type": "code",
   "execution_count": 15,
   "id": "8bdfc0ae",
   "metadata": {},
   "outputs": [
    {
     "data": {
      "text/plain": [
       "array([0, 1, 8, ..., 8, 9, 8])"
      ]
     },
     "execution_count": 15,
     "metadata": {},
     "output_type": "execute_result"
    }
   ],
   "source": [
    "from sklearn.model_selection import cross_val_predict\n",
    "cross_val_predict(model, digits['data'],digits['target'],cv=5)"
   ]
  }
 ],
 "metadata": {
  "kernelspec": {
   "display_name": "Python 3 (ipykernel)",
   "language": "python",
   "name": "python3"
  },
  "language_info": {
   "codemirror_mode": {
    "name": "ipython",
    "version": 3
   },
   "file_extension": ".py",
   "mimetype": "text/x-python",
   "name": "python",
   "nbconvert_exporter": "python",
   "pygments_lexer": "ipython3",
   "version": "3.9.7"
  }
 },
 "nbformat": 4,
 "nbformat_minor": 5
}
