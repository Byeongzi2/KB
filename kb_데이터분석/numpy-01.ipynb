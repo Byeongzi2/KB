{
 "cells": [
  {
   "cell_type": "code",
   "execution_count": 7,
   "id": "1d6f7de8",
   "metadata": {},
   "outputs": [
    {
     "name": "stdout",
     "output_type": "stream",
     "text": [
      "[1 2 3]\n",
      "[1, 2, 3]\n"
     ]
    },
    {
     "data": {
      "text/plain": [
       "array([1, 2, 3])"
      ]
     },
     "metadata": {},
     "output_type": "display_data"
    },
    {
     "data": {
      "text/plain": [
       "[1, 2, 3]"
      ]
     },
     "metadata": {},
     "output_type": "display_data"
    }
   ],
   "source": [
    "import numpy as np\n",
    "\n",
    "n1 = np.array([1,2,3])\n",
    "print(n1) #넘파이 배열\n",
    "print([1,2,3]) #파이썬 리스트\n",
    "\n",
    "display(n1) #넘파이 배열\n",
    "display([1,2,3]) #파이썬 리스트"
   ]
  },
  {
   "cell_type": "code",
   "execution_count": 8,
   "id": "f5e4261c",
   "metadata": {},
   "outputs": [
    {
     "name": "stdout",
     "output_type": "stream",
     "text": [
      "[[1 2]\n",
      " [3 4]]\n"
     ]
    },
    {
     "data": {
      "text/plain": [
       "array([[1, 2],\n",
       "       [3, 4]])"
      ]
     },
     "metadata": {},
     "output_type": "display_data"
    }
   ],
   "source": [
    "n2 = np.array( [[1,2], [3,4]] )\n",
    "print(n2)\n",
    "display(n2)"
   ]
  },
  {
   "cell_type": "code",
   "execution_count": 9,
   "id": "10ccc061",
   "metadata": {},
   "outputs": [
    {
     "data": {
      "text/plain": [
       "array([[[1, 2],\n",
       "        [3, 4]],\n",
       "\n",
       "       [[1, 2],\n",
       "        [3, 4]]])"
      ]
     },
     "execution_count": 9,
     "metadata": {},
     "output_type": "execute_result"
    }
   ],
   "source": [
    "n3 = np.array( [ [[1,2], [3,4]],[[1,2], [3,4]] ])\n",
    "n3"
   ]
  },
  {
   "cell_type": "code",
   "execution_count": 12,
   "id": "3564e3f2",
   "metadata": {},
   "outputs": [
    {
     "data": {
      "text/plain": [
       "range(0, 5)"
      ]
     },
     "execution_count": 12,
     "metadata": {},
     "output_type": "execute_result"
    }
   ],
   "source": [
    "range(0,5,1)  # 파이썬의 기본 숫자 범위 지정 : 증가치는 정수만 지원.range(0,5,0.5)"
   ]
  },
  {
   "cell_type": "code",
   "execution_count": 13,
   "id": "7c13bd58",
   "metadata": {},
   "outputs": [
    {
     "data": {
      "text/plain": [
       "array([0. , 0.5, 1. , 1.5, 2. , 2.5, 3. , 3.5, 4. , 4.5])"
      ]
     },
     "execution_count": 13,
     "metadata": {},
     "output_type": "execute_result"
    }
   ],
   "source": [
    "np.arange(0,5,0.5)"
   ]
  },
  {
   "cell_type": "code",
   "execution_count": 17,
   "id": "4ac88136",
   "metadata": {},
   "outputs": [
    {
     "data": {
      "text/plain": [
       "array([ 1. ,  2.8,  4.6,  6.4,  8.2, 10. ])"
      ]
     },
     "execution_count": 17,
     "metadata": {},
     "output_type": "execute_result"
    }
   ],
   "source": [
    "np.linspace(1,10,6)"
   ]
  },
  {
   "cell_type": "code",
   "execution_count": 18,
   "id": "b9af2577",
   "metadata": {},
   "outputs": [
    {
     "data": {
      "text/plain": [
       "array([[[1., 1., 1.],\n",
       "        [1., 1., 1.]],\n",
       "\n",
       "       [[1., 1., 1.],\n",
       "        [1., 1., 1.]]])"
      ]
     },
     "execution_count": 18,
     "metadata": {},
     "output_type": "execute_result"
    }
   ],
   "source": [
    "np.ones([2,2,3])"
   ]
  },
  {
   "cell_type": "code",
   "execution_count": 19,
   "id": "e7be9049",
   "metadata": {},
   "outputs": [
    {
     "name": "stdout",
     "output_type": "stream",
     "text": [
      "Variable   Type       Data/Info\n",
      "-------------------------------\n",
      "n1         ndarray    3: 3 elems, type `int32`, 12 bytes\n",
      "n2         ndarray    2x2: 4 elems, type `int32`, 16 bytes\n",
      "n3         ndarray    2x2x2: 8 elems, type `int32`, 32 bytes\n",
      "np         module     <module 'numpy' from 'C:\\<...>ges\\\\numpy\\\\__init__.py'>\n"
     ]
    }
   ],
   "source": [
    "%whos  # %기호는 실행환경에서 제공해주는 명령어. 파이썬언어X"
   ]
  },
  {
   "cell_type": "code",
   "execution_count": 23,
   "id": "10708fa6",
   "metadata": {},
   "outputs": [
    {
     "data": {
      "text/plain": [
       "(1, (3,), 3)"
      ]
     },
     "execution_count": 23,
     "metadata": {},
     "output_type": "execute_result"
    }
   ],
   "source": [
    "n1.ndim , n1.shape , n1.size"
   ]
  },
  {
   "cell_type": "code",
   "execution_count": 24,
   "id": "5776d446",
   "metadata": {},
   "outputs": [
    {
     "data": {
      "text/plain": [
       "(2, (2, 2), 4)"
      ]
     },
     "execution_count": 24,
     "metadata": {},
     "output_type": "execute_result"
    }
   ],
   "source": [
    "n2.ndim , n2.shape, n2.size"
   ]
  },
  {
   "cell_type": "code",
   "execution_count": 28,
   "id": "ce96b3db",
   "metadata": {},
   "outputs": [
    {
     "data": {
      "text/plain": [
       "(3, (2, 2, 2), 8)"
      ]
     },
     "execution_count": 28,
     "metadata": {},
     "output_type": "execute_result"
    }
   ],
   "source": [
    "n3.ndim, n3.shape, n3.size"
   ]
  },
  {
   "cell_type": "code",
   "execution_count": 29,
   "id": "0a6d5d32",
   "metadata": {},
   "outputs": [
    {
     "data": {
      "text/plain": [
       "array([[1, 2],\n",
       "       [3, 4]])"
      ]
     },
     "execution_count": 29,
     "metadata": {},
     "output_type": "execute_result"
    }
   ],
   "source": [
    "n2"
   ]
  },
  {
   "cell_type": "code",
   "execution_count": 30,
   "id": "ca0dcce8",
   "metadata": {},
   "outputs": [
    {
     "data": {
      "text/plain": [
       "array([[1, 3],\n",
       "       [2, 4]])"
      ]
     },
     "execution_count": 30,
     "metadata": {},
     "output_type": "execute_result"
    }
   ],
   "source": [
    "n2.T"
   ]
  },
  {
   "cell_type": "code",
   "execution_count": 33,
   "id": "baea47c2",
   "metadata": {},
   "outputs": [
    {
     "data": {
      "text/plain": [
       "array([ 0,  1,  2,  3,  4,  5,  6,  7,  8,  9, 10, 11])"
      ]
     },
     "execution_count": 33,
     "metadata": {},
     "output_type": "execute_result"
    }
   ],
   "source": [
    "arr1 = np.arange(12)\n",
    "arr1"
   ]
  },
  {
   "cell_type": "code",
   "execution_count": 37,
   "id": "7a076960",
   "metadata": {},
   "outputs": [
    {
     "data": {
      "text/plain": [
       "array([[ 0,  1,  2,  3],\n",
       "       [ 4,  5,  6,  7],\n",
       "       [ 8,  9, 10, 11]])"
      ]
     },
     "execution_count": 37,
     "metadata": {},
     "output_type": "execute_result"
    }
   ],
   "source": [
    "arr1.reshape(3,4)"
   ]
  },
  {
   "cell_type": "code",
   "execution_count": 43,
   "id": "0f659eed",
   "metadata": {},
   "outputs": [
    {
     "data": {
      "text/plain": [
       "array([ 0,  1,  2,  3,  4,  5,  6,  7,  8,  9, 10, 11])"
      ]
     },
     "execution_count": 43,
     "metadata": {},
     "output_type": "execute_result"
    }
   ],
   "source": [
    "arr1.reshape(2,3,-1).reshape(-1)"
   ]
  },
  {
   "cell_type": "code",
   "execution_count": 45,
   "id": "ed0aa873",
   "metadata": {},
   "outputs": [
    {
     "data": {
      "text/plain": [
       "array([[ 0,  1,  2,  3,  4,  5,  6,  7,  8,  9, 10, 11]])"
      ]
     },
     "execution_count": 45,
     "metadata": {},
     "output_type": "execute_result"
    }
   ],
   "source": [
    "arr1.reshape(1,-1) #한개 행이 2차원으로 존재."
   ]
  },
  {
   "cell_type": "code",
   "execution_count": 44,
   "id": "912cc353",
   "metadata": {},
   "outputs": [
    {
     "data": {
      "text/plain": [
       "array([ 0,  1,  2,  3,  4,  5,  6,  7,  8,  9, 10, 11])"
      ]
     },
     "execution_count": 44,
     "metadata": {},
     "output_type": "execute_result"
    }
   ],
   "source": [
    "arr1.reshape(-1) #한개 행이 1차원으로 존재."
   ]
  },
  {
   "cell_type": "code",
   "execution_count": 46,
   "id": "d9fb4841",
   "metadata": {},
   "outputs": [
    {
     "data": {
      "text/plain": [
       "array([[1., 2.],\n",
       "       [3., 4.]])"
      ]
     },
     "execution_count": 46,
     "metadata": {},
     "output_type": "execute_result"
    }
   ],
   "source": [
    "n2 = np.array( [[1,2], [3,4]] ,dtype=float)\n",
    "n2"
   ]
  },
  {
   "cell_type": "code",
   "execution_count": 49,
   "id": "3ee42939",
   "metadata": {},
   "outputs": [
    {
     "data": {
      "text/plain": [
       "array([[1, 2],\n",
       "       [3, 4]])"
      ]
     },
     "execution_count": 49,
     "metadata": {},
     "output_type": "execute_result"
    }
   ],
   "source": [
    "n11 = np.arange(1,5).reshape(2,2)\n",
    "n11"
   ]
  },
  {
   "cell_type": "code",
   "execution_count": 53,
   "id": "97bea4d6",
   "metadata": {},
   "outputs": [
    {
     "data": {
      "text/plain": [
       "array([[5, 6],\n",
       "       [7, 8]])"
      ]
     },
     "execution_count": 53,
     "metadata": {},
     "output_type": "execute_result"
    }
   ],
   "source": [
    "n22 = np.arange(5,9).reshape(2,2)\n",
    "n22"
   ]
  },
  {
   "cell_type": "code",
   "execution_count": 52,
   "id": "da3b67b2",
   "metadata": {},
   "outputs": [
    {
     "data": {
      "text/plain": [
       "array([[11, 13],\n",
       "       [15, 17]])"
      ]
     },
     "execution_count": 52,
     "metadata": {},
     "output_type": "execute_result"
    }
   ],
   "source": [
    "n11+n22"
   ]
  },
  {
   "cell_type": "code",
   "execution_count": 54,
   "id": "54e200a3",
   "metadata": {},
   "outputs": [],
   "source": [
    "점수 = np.array([1,3,5,9,10])\n",
    "구분 = np.array( ['fail','fail','fail','pass','pass'] )"
   ]
  },
  {
   "cell_type": "code",
   "execution_count": 58,
   "id": "8ce84546",
   "metadata": {},
   "outputs": [
    {
     "name": "stdout",
     "output_type": "stream",
     "text": [
      "[-7 -5 -3  1  2]\n",
      "[49 25  9  1  4]\n",
      "[49 25  9  1  4]\n"
     ]
    }
   ],
   "source": [
    "내점수 = 8\n",
    "print(점수 - 내점수)\n",
    "dists = 점수-내점수\n",
    "print(dists**2)\n",
    "dists = dists**2\n",
    "print(dists)"
   ]
  },
  {
   "cell_type": "code",
   "execution_count": 59,
   "id": "2e0c28ee",
   "metadata": {},
   "outputs": [],
   "source": [
    "좌표리스트 = np.array([\n",
    "    [1,5], # x,y\n",
    "    [2,10],\n",
    "    [3,6],\n",
    "    [4,2],\n",
    "    [5,3],\n",
    "    [7,3]\n",
    "])\n",
    "구분 = np.array(['fail','fail','fail','pass','pass','pass'])"
   ]
  },
  {
   "cell_type": "code",
   "execution_count": 61,
   "id": "784a2e15",
   "metadata": {},
   "outputs": [
    {
     "data": {
      "text/plain": [
       "array([[-4,  0],\n",
       "       [-3,  5],\n",
       "       [-2,  1],\n",
       "       [-1, -3],\n",
       "       [ 0, -2],\n",
       "       [ 2, -2]])"
      ]
     },
     "execution_count": 61,
     "metadata": {},
     "output_type": "execute_result"
    }
   ],
   "source": [
    "내좌표 = [5,5]\n",
    "dists = 좌표리스트 - 내좌표\n",
    "dists"
   ]
  },
  {
   "cell_type": "code",
   "execution_count": 64,
   "id": "0288b378",
   "metadata": {},
   "outputs": [
    {
     "data": {
      "text/plain": [
       "array([[16,  0],\n",
       "       [ 9, 25],\n",
       "       [ 4,  1],\n",
       "       [ 1,  9],\n",
       "       [ 0,  4],\n",
       "       [ 4,  4]], dtype=int32)"
      ]
     },
     "execution_count": 64,
     "metadata": {},
     "output_type": "execute_result"
    }
   ],
   "source": [
    "dists = dists**2\n",
    "dists"
   ]
  },
  {
   "cell_type": "code",
   "execution_count": 70,
   "id": "0f42d8fe",
   "metadata": {},
   "outputs": [
    {
     "name": "stdout",
     "output_type": "stream",
     "text": [
      "[4.         5.83095189 2.23606798 3.16227766 2.         2.82842712]\n"
     ]
    }
   ],
   "source": [
    "dists.sum()\n",
    "np.sum(dists, axis=1)  # 행(row)단위로 읽어서 열(cal)단위로 계산\n",
    "print(np.sqrt(np.sum(dists,axis=1)))"
   ]
  },
  {
   "cell_type": "code",
   "execution_count": 102,
   "id": "ba3f7434",
   "metadata": {},
   "outputs": [],
   "source": [
    "지점별매출리스트 = np.array([ \n",
    "    [1,5,3,3], \n",
    "    [2,10,4,4],\n",
    "    [3,6,7,7],\n",
    "    [4,2,7,7],\n",
    "])\n",
    "구분 = np.array(['경고','경고','경고','승진'])\n",
    "나의매출 = [2,3,5,5]\n"
   ]
  },
  {
   "cell_type": "code",
   "execution_count": 79,
   "id": "a2cc1804",
   "metadata": {},
   "outputs": [
    {
     "data": {
      "text/plain": [
       "array([3.60555128, 7.14142843, 4.24264069, 3.60555128])"
      ]
     },
     "execution_count": 79,
     "metadata": {},
     "output_type": "execute_result"
    }
   ],
   "source": [
    "arr3 = np.sqrt(((지점별매출리스트 - 나의매출)**2).sum(axis=1))\n",
    "arr3"
   ]
  },
  {
   "cell_type": "code",
   "execution_count": 83,
   "id": "c3e52f7f",
   "metadata": {},
   "outputs": [
    {
     "name": "stdout",
     "output_type": "stream",
     "text": [
      "[ True False False  True]\n",
      "[[1 5 3 3]\n",
      " [4 2 7 7]]\n"
     ]
    }
   ],
   "source": [
    "print(arr3 < 4)\n",
    "print(지점별매출리스트[arr3 < 4]) #True인 행들이 출력\n"
   ]
  },
  {
   "cell_type": "code",
   "execution_count": 78,
   "id": "de27dad3",
   "metadata": {},
   "outputs": [
    {
     "name": "stdout",
     "output_type": "stream",
     "text": [
      "[1 5 3 3]\n",
      "1\n",
      "1\n",
      "[1 2 3 4]\n"
     ]
    }
   ],
   "source": [
    "print(지점별매출리스트[0])  #하나만 쓰면 행 의미.\n",
    "print(지점별매출리스트[0][0])\n",
    "print(지점별매출리스트[0,0])\n",
    "\n",
    "#열만 뽑고 싶을때\n",
    "print(지점별매출리스트[:,0]) # 인덱싱."
   ]
  },
  {
   "cell_type": "code",
   "execution_count": 99,
   "id": "f81c5bb6",
   "metadata": {},
   "outputs": [
    {
     "name": "stdout",
     "output_type": "stream",
     "text": [
      "[[ 1  5  3  3]\n",
      " [ 2 10  4  4]\n",
      " [ 3  6  7  7]\n",
      " [ 4  2  7  7]]\n",
      "[ 5 10]\n",
      "[10  4]\n"
     ]
    }
   ],
   "source": [
    "print(지점별매출리스트)\n",
    "print(지점별매출리스트[ [0,1],[1,1] ])\n",
    "print(지점별매출리스트[ [1,3],[1,0] ])"
   ]
  },
  {
   "cell_type": "code",
   "execution_count": 97,
   "id": "f16eefa2",
   "metadata": {},
   "outputs": [
    {
     "name": "stdout",
     "output_type": "stream",
     "text": [
      "[10  4]\n"
     ]
    }
   ],
   "source": [
    "print(지점별매출리스트[ [1,3],[1,0] ])"
   ]
  },
  {
   "cell_type": "code",
   "execution_count": 90,
   "id": "9048e5cc",
   "metadata": {},
   "outputs": [
    {
     "data": {
      "text/plain": [
       "array([[7, 7],\n",
       "       [7, 7]])"
      ]
     },
     "execution_count": 90,
     "metadata": {},
     "output_type": "execute_result"
    }
   ],
   "source": [
    "지점별매출리스트[2:,2:]"
   ]
  },
  {
   "cell_type": "code",
   "execution_count": 91,
   "id": "9eca5796",
   "metadata": {},
   "outputs": [
    {
     "data": {
      "text/plain": [
       "(array([1, 1, 1, 1, 2, 3, 3], dtype=int64),\n",
       " array([0, 1, 2, 3, 1, 0, 1], dtype=int64))"
      ]
     },
     "execution_count": 91,
     "metadata": {},
     "output_type": "execute_result"
    }
   ],
   "source": [
    "np.where(지점별매출리스트%2==0)"
   ]
  },
  {
   "cell_type": "code",
   "execution_count": 96,
   "id": "a0942599",
   "metadata": {},
   "outputs": [
    {
     "data": {
      "text/plain": [
       "array([['WARNING', 'Remain', 'WARNING', 'WARNING'],\n",
       "       ['WARNING', 'Remain', 'Remain', 'Remain'],\n",
       "       ['WARNING', 'Remain', 'Remain', 'Remain'],\n",
       "       ['Remain', 'WARNING', 'Remain', 'Remain']], dtype='<U7')"
      ]
     },
     "execution_count": 96,
     "metadata": {},
     "output_type": "execute_result"
    }
   ],
   "source": [
    "arr4 = np.where(지점별매출리스트 < 4, \"WARNING\",\"Remain\")\n",
    "arr4"
   ]
  },
  {
   "cell_type": "code",
   "execution_count": 103,
   "id": "9b34440e",
   "metadata": {},
   "outputs": [
    {
     "name": "stdout",
     "output_type": "stream",
     "text": [
      "[[ 1  5  3  3]\n",
      " [ 2 10  4  4]\n",
      " [ 3  6  7  7]\n",
      " [ 4  2  7  7]]\n"
     ]
    }
   ],
   "source": [
    "# 주류,식품,영업매출,개발매출\n",
    "print(지점별매출리스트)\n",
    "지점명 = np.array(['A','B','C','D'])"
   ]
  },
  {
   "cell_type": "code",
   "execution_count": 106,
   "id": "15ae64e9",
   "metadata": {},
   "outputs": [
    {
     "name": "stdout",
     "output_type": "stream",
     "text": [
      "[1 2 3 3]\n",
      "[1 2 3 2]\n"
     ]
    }
   ],
   "source": [
    "print(지점별매출리스트.min(axis=0))\n",
    "print(지점별매출리스트.min(axis=1))"
   ]
  },
  {
   "cell_type": "code",
   "execution_count": 109,
   "id": "08bf31e7",
   "metadata": {},
   "outputs": [
    {
     "data": {
      "text/plain": [
       "['A', 'B', 'C', 'D']"
      ]
     },
     "execution_count": 109,
     "metadata": {},
     "output_type": "execute_result"
    }
   ],
   "source": [
    "지점명 = list(\"ABCD\")\n",
    "지점명"
   ]
  },
  {
   "cell_type": "code",
   "execution_count": 110,
   "id": "473e5c6a",
   "metadata": {},
   "outputs": [
    {
     "data": {
      "text/plain": [
       "'ABCD'"
      ]
     },
     "execution_count": 110,
     "metadata": {},
     "output_type": "execute_result"
    }
   ],
   "source": [
    "\"\".join(지점명)"
   ]
  },
  {
   "cell_type": "code",
   "execution_count": 116,
   "id": "2705f38e",
   "metadata": {},
   "outputs": [
    {
     "name": "stdout",
     "output_type": "stream",
     "text": [
      "A\n"
     ]
    }
   ],
   "source": [
    "#지점별매출리스트에서 주류매출이 가장 작은 지점명은?\n",
    "tmp = 지점별매출리스트[:,0].argmin()\n",
    "print(지점명[tmp])"
   ]
  },
  {
   "cell_type": "code",
   "execution_count": 119,
   "id": "841dee59",
   "metadata": {},
   "outputs": [
    {
     "data": {
      "text/plain": [
       "1.75"
      ]
     },
     "execution_count": 119,
     "metadata": {},
     "output_type": "execute_result"
    }
   ],
   "source": [
    "지점별매출리스트[:,0].mean()\n",
    "np.quantile(지점별매출리스트[:,0],(0.25))"
   ]
  },
  {
   "cell_type": "code",
   "execution_count": 123,
   "id": "2b25cdb9",
   "metadata": {},
   "outputs": [
    {
     "name": "stdout",
     "output_type": "stream",
     "text": [
      "[1 3 7 9]\n",
      "[3 1 7 9]\n"
     ]
    },
    {
     "data": {
      "text/plain": [
       "array([1, 0, 2, 3], dtype=int64)"
      ]
     },
     "execution_count": 123,
     "metadata": {},
     "output_type": "execute_result"
    }
   ],
   "source": [
    "aa = np.array([3,1,7,9])\n",
    "print(np.sort(aa))\n",
    "print(aa)\n",
    "sort_idx = np.argsort(aa)\n",
    "print(sort_idx)\n"
   ]
  },
  {
   "cell_type": "code",
   "execution_count": 133,
   "id": "5043b974",
   "metadata": {},
   "outputs": [
    {
     "name": "stdout",
     "output_type": "stream",
     "text": [
      "내좌표와 좌표들간 거리 [[-4  0]\n",
      " [-3  5]\n",
      " [-2  1]\n",
      " [-1 -3]\n",
      " [ 0 -2]\n",
      " [ 2 -2]]\n",
      "거리를 각각 제곱 [[16  0]\n",
      " [ 9 25]\n",
      " [ 4  1]\n",
      " [ 1  9]\n",
      " [ 0  4]\n",
      " [ 4  4]]\n",
      "제곱들을 더해 제곱근(직선거리) [4.         5.83095189 2.23606798 3.16227766 2.         2.82842712]\n",
      "가장 가까이 배치되어야 할 순서 인덱스 [4 2 5 3 0 1]\n",
      "정렬 [2.         2.23606798 2.82842712 3.16227766 4.         5.83095189]\n",
      "['pass' 'fail' 'pass' 'pass' 'fail' 'fail']\n",
      "결론: 나의 예측 pass\n",
      "['pass' 'fail' 'pass']\n"
     ]
    }
   ],
   "source": [
    "좌표리스트 = np.array([\n",
    "    [1,5], # x,y\n",
    "    [2,10],\n",
    "    [3,6],\n",
    "    [4,2],\n",
    "    [5,3],\n",
    "    [7,3]\n",
    "])\n",
    "구분 = np.array(['fail','fail','fail','pass','pass','pass'])\n",
    "\n",
    "내좌표 = [5,5]\n",
    "dists = 좌표리스트 - 내좌표\n",
    "print(\"내좌표와 좌표들간 거리\", dists)\n",
    "dists = dists**2\n",
    "print(\"거리를 각각 제곱\",dists)\n",
    "#내 좌표와 좌표리스트간 직선 거리\n",
    "dists = np.sqrt(np.sum(dists, axis=1))\n",
    "print(\"제곱들을 더해 제곱근(직선거리)\",dists)\n",
    "#직선거리를 정렬\n",
    "sort_index = dists.argsort()\n",
    "print(\"가장 가까이 배치되어야 할 순서 인덱스\",sort_index)\n",
    "print(\"정렬\",dists[sort_index])\n",
    "print(구분[sort_index])\n",
    "print(\"결론: 나의 예측\",구분[sort_index][0])\n",
    "\n",
    "# 범위를 넓혀 가장 가까운 3개를 추출\n",
    "print(구분[sort_index][:3])"
   ]
  },
  {
   "cell_type": "code",
   "execution_count": null,
   "id": "6efd2886",
   "metadata": {},
   "outputs": [],
   "source": [
    "# np.bincount(arr) -> \"정수\"데이터의 최대값까지의 빈도수 계산"
   ]
  },
  {
   "cell_type": "code",
   "execution_count": 134,
   "id": "7c32d2be",
   "metadata": {},
   "outputs": [
    {
     "data": {
      "text/plain": [
       "array([0, 1, 0, 2, 0, 0, 0, 0, 0, 1], dtype=int64)"
      ]
     },
     "execution_count": 134,
     "metadata": {},
     "output_type": "execute_result"
    }
   ],
   "source": [
    "arr4 = np.array([3,1,9,3])\n",
    "np.bincount(arr4) # 0의 빈도수, 1의 빈도수, 2의 빈도수 ... "
   ]
  },
  {
   "cell_type": "code",
   "execution_count": 138,
   "id": "18bd425e",
   "metadata": {},
   "outputs": [],
   "source": [
    "# np.unique(문자/정수배열, return_counts=True)"
   ]
  },
  {
   "cell_type": "code",
   "execution_count": 143,
   "id": "870ea667",
   "metadata": {},
   "outputs": [
    {
     "name": "stdout",
     "output_type": "stream",
     "text": [
      "['fail' 'pass'] [1 2]\n",
      "pass\n"
     ]
    }
   ],
   "source": [
    "uql, uqc = np.unique(구분[sort_index][:3],return_counts=True)\n",
    "print(uql,uqc)\n",
    "print(uql[np.argmax(uqc)]) # 빈도수가 높은 글자"
   ]
  },
  {
   "cell_type": "code",
   "execution_count": 144,
   "id": "2e7e70ac",
   "metadata": {},
   "outputs": [
    {
     "data": {
      "text/plain": [
       "[5, 3, 1]"
      ]
     },
     "execution_count": 144,
     "metadata": {},
     "output_type": "execute_result"
    }
   ],
   "source": [
    "[1,3,5][::-1]"
   ]
  }
 ],
 "metadata": {
  "kernelspec": {
   "display_name": "Python 3 (ipykernel)",
   "language": "python",
   "name": "python3"
  },
  "language_info": {
   "codemirror_mode": {
    "name": "ipython",
    "version": 3
   },
   "file_extension": ".py",
   "mimetype": "text/x-python",
   "name": "python",
   "nbconvert_exporter": "python",
   "pygments_lexer": "ipython3",
   "version": "3.9.7"
  }
 },
 "nbformat": 4,
 "nbformat_minor": 5
}
