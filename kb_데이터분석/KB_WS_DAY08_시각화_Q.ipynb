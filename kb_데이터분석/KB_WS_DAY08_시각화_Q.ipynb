{
 "cells": [
  {
   "cell_type": "markdown",
   "metadata": {},
   "source": [
    "# 데이터 시각화"
   ]
  },
  {
   "cell_type": "code",
   "execution_count": 1,
   "metadata": {
    "ExecuteTime": {
     "end_time": "2022-03-07T07:45:53.525152Z",
     "start_time": "2022-03-07T07:45:52.504129Z"
    }
   },
   "outputs": [],
   "source": [
    "import numpy as np\n",
    "import pandas as pd\n",
    "import matplotlib.pyplot as plt\n",
    "import seaborn as sns\n",
    "\n",
    "plt.rcParams['font.family'] = 'Malgun Gothic' # 한글 폰트 설정\n",
    "plt.rcParams['figure.figsize'] = (10, 6) # 그래프 크기 설정"
   ]
  },
  {
   "cell_type": "markdown",
   "metadata": {},
   "source": [
    "<br/>\n",
    "<br/>\n",
    "<br/>\n",
    "<br/>"
   ]
  },
  {
   "cell_type": "markdown",
   "metadata": {},
   "source": [
    "### 데이터 읽기"
   ]
  },
  {
   "cell_type": "code",
   "execution_count": 2,
   "metadata": {
    "ExecuteTime": {
     "end_time": "2022-03-07T07:45:53.572874Z",
     "start_time": "2022-03-07T07:45:53.525152Z"
    }
   },
   "outputs": [
    {
     "data": {
      "text/html": [
       "<div>\n",
       "<style scoped>\n",
       "    .dataframe tbody tr th:only-of-type {\n",
       "        vertical-align: middle;\n",
       "    }\n",
       "\n",
       "    .dataframe tbody tr th {\n",
       "        vertical-align: top;\n",
       "    }\n",
       "\n",
       "    .dataframe thead th {\n",
       "        text-align: right;\n",
       "    }\n",
       "</style>\n",
       "<table border=\"1\" class=\"dataframe\">\n",
       "  <thead>\n",
       "    <tr style=\"text-align: right;\">\n",
       "      <th></th>\n",
       "      <th>구분</th>\n",
       "      <th>성별</th>\n",
       "      <th>연령대</th>\n",
       "      <th>유효회원수</th>\n",
       "      <th>매출건수</th>\n",
       "      <th>매출금액(만원)</th>\n",
       "      <th>건당금액</th>\n",
       "      <th>소액결재</th>\n",
       "      <th>드라이브쓰루</th>\n",
       "      <th>세대</th>\n",
       "    </tr>\n",
       "  </thead>\n",
       "  <tbody>\n",
       "    <tr>\n",
       "      <th>0</th>\n",
       "      <td>커피DT</td>\n",
       "      <td>남성</td>\n",
       "      <td>10대</td>\n",
       "      <td>579</td>\n",
       "      <td>1034</td>\n",
       "      <td>815</td>\n",
       "      <td>7883</td>\n",
       "      <td>Yes</td>\n",
       "      <td>Yes</td>\n",
       "      <td>청소년</td>\n",
       "    </tr>\n",
       "    <tr>\n",
       "      <th>1</th>\n",
       "      <td>커피DT</td>\n",
       "      <td>남성</td>\n",
       "      <td>20대</td>\n",
       "      <td>14622</td>\n",
       "      <td>34348</td>\n",
       "      <td>28449</td>\n",
       "      <td>8282</td>\n",
       "      <td>Yes</td>\n",
       "      <td>Yes</td>\n",
       "      <td>청년</td>\n",
       "    </tr>\n",
       "    <tr>\n",
       "      <th>2</th>\n",
       "      <td>커피DT</td>\n",
       "      <td>남성</td>\n",
       "      <td>30대</td>\n",
       "      <td>13985</td>\n",
       "      <td>29618</td>\n",
       "      <td>27337</td>\n",
       "      <td>9229</td>\n",
       "      <td>Yes</td>\n",
       "      <td>Yes</td>\n",
       "      <td>청년</td>\n",
       "    </tr>\n",
       "    <tr>\n",
       "      <th>3</th>\n",
       "      <td>커피DT</td>\n",
       "      <td>남성</td>\n",
       "      <td>40대</td>\n",
       "      <td>8396</td>\n",
       "      <td>17957</td>\n",
       "      <td>17682</td>\n",
       "      <td>9847</td>\n",
       "      <td>Yes</td>\n",
       "      <td>Yes</td>\n",
       "      <td>중년</td>\n",
       "    </tr>\n",
       "    <tr>\n",
       "      <th>4</th>\n",
       "      <td>커피DT</td>\n",
       "      <td>남성</td>\n",
       "      <td>50대</td>\n",
       "      <td>4811</td>\n",
       "      <td>9321</td>\n",
       "      <td>9646</td>\n",
       "      <td>10349</td>\n",
       "      <td>No</td>\n",
       "      <td>Yes</td>\n",
       "      <td>중년</td>\n",
       "    </tr>\n",
       "    <tr>\n",
       "      <th>...</th>\n",
       "      <td>...</td>\n",
       "      <td>...</td>\n",
       "      <td>...</td>\n",
       "      <td>...</td>\n",
       "      <td>...</td>\n",
       "      <td>...</td>\n",
       "      <td>...</td>\n",
       "      <td>...</td>\n",
       "      <td>...</td>\n",
       "      <td>...</td>\n",
       "    </tr>\n",
       "    <tr>\n",
       "      <th>67</th>\n",
       "      <td>무인아이스크림</td>\n",
       "      <td>여성</td>\n",
       "      <td>20대</td>\n",
       "      <td>32407</td>\n",
       "      <td>72198</td>\n",
       "      <td>31050</td>\n",
       "      <td>4300</td>\n",
       "      <td>Yes</td>\n",
       "      <td>No</td>\n",
       "      <td>청년</td>\n",
       "    </tr>\n",
       "    <tr>\n",
       "      <th>68</th>\n",
       "      <td>무인아이스크림</td>\n",
       "      <td>여성</td>\n",
       "      <td>30대</td>\n",
       "      <td>31840</td>\n",
       "      <td>77156</td>\n",
       "      <td>42914</td>\n",
       "      <td>5561</td>\n",
       "      <td>Yes</td>\n",
       "      <td>No</td>\n",
       "      <td>청년</td>\n",
       "    </tr>\n",
       "    <tr>\n",
       "      <th>69</th>\n",
       "      <td>무인아이스크림</td>\n",
       "      <td>여성</td>\n",
       "      <td>40대</td>\n",
       "      <td>34007</td>\n",
       "      <td>85111</td>\n",
       "      <td>50325</td>\n",
       "      <td>5912</td>\n",
       "      <td>Yes</td>\n",
       "      <td>No</td>\n",
       "      <td>중년</td>\n",
       "    </tr>\n",
       "    <tr>\n",
       "      <th>70</th>\n",
       "      <td>무인아이스크림</td>\n",
       "      <td>여성</td>\n",
       "      <td>50대</td>\n",
       "      <td>17146</td>\n",
       "      <td>37425</td>\n",
       "      <td>22369</td>\n",
       "      <td>5977</td>\n",
       "      <td>Yes</td>\n",
       "      <td>No</td>\n",
       "      <td>중년</td>\n",
       "    </tr>\n",
       "    <tr>\n",
       "      <th>71</th>\n",
       "      <td>무인아이스크림</td>\n",
       "      <td>여성</td>\n",
       "      <td>60대이상</td>\n",
       "      <td>8135</td>\n",
       "      <td>17432</td>\n",
       "      <td>10498</td>\n",
       "      <td>6022</td>\n",
       "      <td>Yes</td>\n",
       "      <td>No</td>\n",
       "      <td>노년</td>\n",
       "    </tr>\n",
       "  </tbody>\n",
       "</table>\n",
       "<p>72 rows × 10 columns</p>\n",
       "</div>"
      ],
      "text/plain": [
       "         구분  성별    연령대  유효회원수   매출건수  매출금액(만원)   건당금액 소액결재 드라이브쓰루   세대\n",
       "0      커피DT  남성    10대    579   1034       815   7883  Yes    Yes  청소년\n",
       "1      커피DT  남성    20대  14622  34348     28449   8282  Yes    Yes   청년\n",
       "2      커피DT  남성    30대  13985  29618     27337   9229  Yes    Yes   청년\n",
       "3      커피DT  남성    40대   8396  17957     17682   9847  Yes    Yes   중년\n",
       "4      커피DT  남성    50대   4811   9321      9646  10349   No    Yes   중년\n",
       "..      ...  ..    ...    ...    ...       ...    ...  ...    ...  ...\n",
       "67  무인아이스크림  여성    20대  32407  72198     31050   4300  Yes     No   청년\n",
       "68  무인아이스크림  여성    30대  31840  77156     42914   5561  Yes     No   청년\n",
       "69  무인아이스크림  여성    40대  34007  85111     50325   5912  Yes     No   중년\n",
       "70  무인아이스크림  여성    50대  17146  37425     22369   5977  Yes     No   중년\n",
       "71  무인아이스크림  여성  60대이상   8135  17432     10498   6022  Yes     No   노년\n",
       "\n",
       "[72 rows x 10 columns]"
      ]
     },
     "execution_count": 2,
     "metadata": {},
     "output_type": "execute_result"
    }
   ],
   "source": [
    "# 'dataset' 폴더 안의 '데이터거래소_비대면소비_new.csv' 파일을 읽으세요.\n",
    "df = pd.read_csv(\"./데이터거래소_비대면소비_new.csv\")\n",
    "df"
   ]
  },
  {
   "cell_type": "markdown",
   "metadata": {},
   "source": [
    "<br/>\n",
    "<br/>\n",
    "<br/>\n",
    "<br/>"
   ]
  },
  {
   "cell_type": "markdown",
   "metadata": {},
   "source": [
    "### seaborn을 이용한 데이터 시각화"
   ]
  },
  {
   "cell_type": "code",
   "execution_count": 3,
   "metadata": {
    "ExecuteTime": {
     "end_time": "2022-03-07T07:45:53.763917Z",
     "start_time": "2022-03-07T07:45:53.574874Z"
    }
   },
   "outputs": [
    {
     "data": {
      "image/png": "[encoded data removed]",
      "text/plain": [
       "<Figure size 720x432 with 1 Axes>"
      ]
     },
     "metadata": {
      "needs_background": "light"
     },
     "output_type": "display_data"
    }
   ],
   "source": [
    "# '구분' 별 '유효회원수'를 boxplot하세요.\n",
    "# plt.figure(figsize=(20,5))\n",
    "sns.boxplot(x='구분',y='유효회원수',data=df)\n",
    "plt.show()"
   ]
  },
  {
   "cell_type": "code",
   "execution_count": 4,
   "metadata": {
    "ExecuteTime": {
     "end_time": "2022-03-07T07:45:54.017933Z",
     "start_time": "2022-03-07T07:45:53.765898Z"
    }
   },
   "outputs": [
    {
     "data": {
      "image/png": "[encoded data removed]",
      "text/plain": [
       "<Figure size 720x432 with 1 Axes>"
      ]
     },
     "metadata": {
      "needs_background": "light"
     },
     "output_type": "display_data"
    }
   ],
   "source": [
    "# 위 그래프에 hue 옵션을 '성별'로 설정하세요.\n",
    "sns.boxplot(x='구분',y='유효회원수',hue='성별',data=df)\n",
    "plt.show()"
   ]
  },
  {
   "cell_type": "code",
   "execution_count": 5,
   "metadata": {
    "ExecuteTime": {
     "end_time": "2022-03-07T07:45:54.176490Z",
     "start_time": "2022-03-07T07:45:54.018934Z"
    }
   },
   "outputs": [
    {
     "data": {
      "image/png": "[encoded data removed]",
      "text/plain": [
       "<Figure size 720x432 with 1 Axes>"
      ]
     },
     "metadata": {
      "needs_background": "light"
     },
     "output_type": "display_data"
    }
   ],
   "source": [
    "# '연령대' 별 '유효회원수'를 boxplot하세요.\n",
    "sns.boxplot(x='연령대',y='유효회원수',data=df)\n",
    "plt.show()"
   ]
  },
  {
   "cell_type": "code",
   "execution_count": 6,
   "metadata": {
    "ExecuteTime": {
     "end_time": "2022-03-07T07:45:54.304519Z",
     "start_time": "2022-03-07T07:45:54.178490Z"
    }
   },
   "outputs": [
    {
     "data": {
      "image/png": "[encoded data removed]",
      "text/plain": [
       "<Figure size 720x432 with 1 Axes>"
      ]
     },
     "metadata": {
      "needs_background": "light"
     },
     "output_type": "display_data"
    }
   ],
   "source": [
    "# '유효회원수' 와 '매출금액(만원)' 관계를 scatterplot하세요.\n",
    "sns.scatterplot(x='유효회원수',\n",
    "        y='매출금액(만원)',data=df)\n",
    "plt.show()"
   ]
  },
  {
   "cell_type": "code",
   "execution_count": 7,
   "metadata": {
    "ExecuteTime": {
     "end_time": "2022-03-07T07:45:54.430552Z",
     "start_time": "2022-03-07T07:45:54.305519Z"
    }
   },
   "outputs": [
    {
     "data": {
      "image/png": "[encoded data removed]",
      "text/plain": [
       "<Figure size 720x432 with 1 Axes>"
      ]
     },
     "metadata": {
      "needs_background": "light"
     },
     "output_type": "display_data"
    }
   ],
   "source": [
    "# '건당금액' 와 '유효회원수' 관계를 scatterplot하세요.\n",
    "sns.scatterplot(x='건당금액',\n",
    "        y='유효회원수',data=df)\n",
    "plt.show()"
   ]
  },
  {
   "cell_type": "code",
   "execution_count": 8,
   "metadata": {
    "ExecuteTime": {
     "end_time": "2022-03-07T07:45:54.605891Z",
     "start_time": "2022-03-07T07:45:54.432547Z"
    }
   },
   "outputs": [
    {
     "data": {
      "image/png": "[encoded data removed]",
      "text/plain": [
       "<Figure size 720x432 with 1 Axes>"
      ]
     },
     "metadata": {
      "needs_background": "light"
     },
     "output_type": "display_data"
    }
   ],
   "source": [
    "# 위 그래프에 hue 옵션을 '드라이브쓰루'로 설정하세요.\n",
    "sns.scatterplot(x='건당금액',\n",
    "        y='유효회원수',hue='드라이브쓰루',data=df)\n",
    "plt.show()"
   ]
  },
  {
   "cell_type": "code",
   "execution_count": 9,
   "metadata": {
    "ExecuteTime": {
     "end_time": "2022-03-07T07:45:56.531469Z",
     "start_time": "2022-03-07T07:45:54.607886Z"
    }
   },
   "outputs": [
    {
     "data": {
      "image/png": "[encoded data removed]",
      "text/plain": [
       "<Figure size 720x720 with 20 Axes>"
      ]
     },
     "metadata": {
      "needs_background": "light"
     },
     "output_type": "display_data"
    }
   ],
   "source": [
    "# 각 컬럼들 간의 관계를 나타내는 그래프를 그리세요.\n",
    "# b = df[['유효회원수','매출건수','매출금액(만원)',]]\n",
    "sns.pairplot(df)\n",
    "plt.show()"
   ]
  },
  {
   "cell_type": "code",
   "execution_count": 10,
   "metadata": {
    "ExecuteTime": {
     "end_time": "2022-03-07T07:45:59.056409Z",
     "start_time": "2022-03-07T07:45:56.533096Z"
    }
   },
   "outputs": [
    {
     "name": "stderr",
     "output_type": "stream",
     "text": [
      "C:\\Anaconda3_2021_11\\lib\\site-packages\\matplotlib\\backends\\backend_agg.py:240: RuntimeWarning: Glyph 8722 missing from current font.\n",
      "  font.set_text(s, 0.0, flags=flags)\n",
      "C:\\Anaconda3_2021_11\\lib\\site-packages\\matplotlib\\backends\\backend_agg.py:203: RuntimeWarning: Glyph 8722 missing from current font.\n",
      "  font.set_text(s, 0, flags=flags)\n"
     ]
    },
    {
     "data": {
      "image/png": "[encoded data removed]",
      "text/plain": [
       "<Figure size 788x720 with 20 Axes>"
      ]
     },
     "metadata": {
      "needs_background": "light"
     },
     "output_type": "display_data"
    }
   ],
   "source": [
    "# 위 그래프에 hue 옵션을 '드라이브쓰루'로 설정하세요.\n",
    "sns.pairplot(df,hue='드라이브쓰루')\n",
    "plt.show()"
   ]
  },
  {
   "cell_type": "markdown",
   "metadata": {},
   "source": [
    "<br/>\n",
    "<br/>\n",
    "<br/>\n",
    "<br/>"
   ]
  },
  {
   "cell_type": "markdown",
   "metadata": {},
   "source": [
    "### 구분 별 매출금액"
   ]
  },
  {
   "cell_type": "code",
   "execution_count": 11,
   "metadata": {
    "ExecuteTime": {
     "end_time": "2022-03-07T07:45:59.071830Z",
     "start_time": "2022-03-07T07:45:59.056409Z"
    }
   },
   "outputs": [
    {
     "data": {
      "text/html": [
       "<div>\n",
       "<style scoped>\n",
       "    .dataframe tbody tr th:only-of-type {\n",
       "        vertical-align: middle;\n",
       "    }\n",
       "\n",
       "    .dataframe tbody tr th {\n",
       "        vertical-align: top;\n",
       "    }\n",
       "\n",
       "    .dataframe thead th {\n",
       "        text-align: right;\n",
       "    }\n",
       "</style>\n",
       "<table border=\"1\" class=\"dataframe\">\n",
       "  <thead>\n",
       "    <tr style=\"text-align: right;\">\n",
       "      <th></th>\n",
       "      <th>구분</th>\n",
       "      <th>성별</th>\n",
       "      <th>연령대</th>\n",
       "      <th>유효회원수</th>\n",
       "      <th>매출건수</th>\n",
       "      <th>매출금액(만원)</th>\n",
       "      <th>건당금액</th>\n",
       "      <th>소액결재</th>\n",
       "      <th>드라이브쓰루</th>\n",
       "      <th>세대</th>\n",
       "    </tr>\n",
       "  </thead>\n",
       "  <tbody>\n",
       "    <tr>\n",
       "      <th>0</th>\n",
       "      <td>커피DT</td>\n",
       "      <td>남성</td>\n",
       "      <td>10대</td>\n",
       "      <td>579</td>\n",
       "      <td>1034</td>\n",
       "      <td>815</td>\n",
       "      <td>7883</td>\n",
       "      <td>Yes</td>\n",
       "      <td>Yes</td>\n",
       "      <td>청소년</td>\n",
       "    </tr>\n",
       "    <tr>\n",
       "      <th>1</th>\n",
       "      <td>커피DT</td>\n",
       "      <td>남성</td>\n",
       "      <td>20대</td>\n",
       "      <td>14622</td>\n",
       "      <td>34348</td>\n",
       "      <td>28449</td>\n",
       "      <td>8282</td>\n",
       "      <td>Yes</td>\n",
       "      <td>Yes</td>\n",
       "      <td>청년</td>\n",
       "    </tr>\n",
       "    <tr>\n",
       "      <th>2</th>\n",
       "      <td>커피DT</td>\n",
       "      <td>남성</td>\n",
       "      <td>30대</td>\n",
       "      <td>13985</td>\n",
       "      <td>29618</td>\n",
       "      <td>27337</td>\n",
       "      <td>9229</td>\n",
       "      <td>Yes</td>\n",
       "      <td>Yes</td>\n",
       "      <td>청년</td>\n",
       "    </tr>\n",
       "    <tr>\n",
       "      <th>3</th>\n",
       "      <td>커피DT</td>\n",
       "      <td>남성</td>\n",
       "      <td>40대</td>\n",
       "      <td>8396</td>\n",
       "      <td>17957</td>\n",
       "      <td>17682</td>\n",
       "      <td>9847</td>\n",
       "      <td>Yes</td>\n",
       "      <td>Yes</td>\n",
       "      <td>중년</td>\n",
       "    </tr>\n",
       "    <tr>\n",
       "      <th>4</th>\n",
       "      <td>커피DT</td>\n",
       "      <td>남성</td>\n",
       "      <td>50대</td>\n",
       "      <td>4811</td>\n",
       "      <td>9321</td>\n",
       "      <td>9646</td>\n",
       "      <td>10349</td>\n",
       "      <td>No</td>\n",
       "      <td>Yes</td>\n",
       "      <td>중년</td>\n",
       "    </tr>\n",
       "  </tbody>\n",
       "</table>\n",
       "</div>"
      ],
      "text/plain": [
       "     구분  성별  연령대  유효회원수   매출건수  매출금액(만원)   건당금액 소액결재 드라이브쓰루   세대\n",
       "0  커피DT  남성  10대    579   1034       815   7883  Yes    Yes  청소년\n",
       "1  커피DT  남성  20대  14622  34348     28449   8282  Yes    Yes   청년\n",
       "2  커피DT  남성  30대  13985  29618     27337   9229  Yes    Yes   청년\n",
       "3  커피DT  남성  40대   8396  17957     17682   9847  Yes    Yes   중년\n",
       "4  커피DT  남성  50대   4811   9321      9646  10349   No    Yes   중년"
      ]
     },
     "execution_count": 11,
     "metadata": {},
     "output_type": "execute_result"
    }
   ],
   "source": [
    "df.head()"
   ]
  },
  {
   "cell_type": "code",
   "execution_count": 12,
   "metadata": {
    "ExecuteTime": {
     "end_time": "2022-03-07T07:45:59.087834Z",
     "start_time": "2022-03-07T07:45:59.073845Z"
    }
   },
   "outputs": [
    {
     "data": {
      "text/html": [
       "<div>\n",
       "<style scoped>\n",
       "    .dataframe tbody tr th:only-of-type {\n",
       "        vertical-align: middle;\n",
       "    }\n",
       "\n",
       "    .dataframe tbody tr th {\n",
       "        vertical-align: top;\n",
       "    }\n",
       "\n",
       "    .dataframe thead th {\n",
       "        text-align: right;\n",
       "    }\n",
       "</style>\n",
       "<table border=\"1\" class=\"dataframe\">\n",
       "  <thead>\n",
       "    <tr style=\"text-align: right;\">\n",
       "      <th></th>\n",
       "      <th>매출금액(만원)</th>\n",
       "    </tr>\n",
       "    <tr>\n",
       "      <th>구분</th>\n",
       "      <th></th>\n",
       "    </tr>\n",
       "  </thead>\n",
       "  <tbody>\n",
       "    <tr>\n",
       "      <th>무인스터디카페</th>\n",
       "      <td>3710.166667</td>\n",
       "    </tr>\n",
       "    <tr>\n",
       "      <th>무인아이스크림</th>\n",
       "      <td>32243.416667</td>\n",
       "    </tr>\n",
       "    <tr>\n",
       "      <th>무인카페</th>\n",
       "      <td>2185.000000</td>\n",
       "    </tr>\n",
       "    <tr>\n",
       "      <th>무인편의점</th>\n",
       "      <td>5114.916667</td>\n",
       "    </tr>\n",
       "    <tr>\n",
       "      <th>커피DT</th>\n",
       "      <td>13816.500000</td>\n",
       "    </tr>\n",
       "    <tr>\n",
       "      <th>패스트푸드DT</th>\n",
       "      <td>339035.416667</td>\n",
       "    </tr>\n",
       "  </tbody>\n",
       "</table>\n",
       "</div>"
      ],
      "text/plain": [
       "              매출금액(만원)\n",
       "구분                    \n",
       "무인스터디카페    3710.166667\n",
       "무인아이스크림   32243.416667\n",
       "무인카페       2185.000000\n",
       "무인편의점      5114.916667\n",
       "커피DT      13816.500000\n",
       "패스트푸드DT  339035.416667"
      ]
     },
     "execution_count": 12,
     "metadata": {},
     "output_type": "execute_result"
    }
   ],
   "source": [
    "# '구분' 별 '매출금액(만원)'의 평균을 df1에 저장하세요.\n",
    "df1 = df.groupby('구분')[['매출금액(만원)']].mean()\n",
    "df1"
   ]
  },
  {
   "cell_type": "code",
   "execution_count": 13,
   "metadata": {
    "ExecuteTime": {
     "end_time": "2022-03-07T07:45:59.103838Z",
     "start_time": "2022-03-07T07:45:59.089835Z"
    },
    "scrolled": true
   },
   "outputs": [
    {
     "data": {
      "text/html": [
       "<div>\n",
       "<style scoped>\n",
       "    .dataframe tbody tr th:only-of-type {\n",
       "        vertical-align: middle;\n",
       "    }\n",
       "\n",
       "    .dataframe tbody tr th {\n",
       "        vertical-align: top;\n",
       "    }\n",
       "\n",
       "    .dataframe thead th {\n",
       "        text-align: right;\n",
       "    }\n",
       "</style>\n",
       "<table border=\"1\" class=\"dataframe\">\n",
       "  <thead>\n",
       "    <tr style=\"text-align: right;\">\n",
       "      <th></th>\n",
       "      <th>구분</th>\n",
       "      <th>매출금액(만원)</th>\n",
       "    </tr>\n",
       "  </thead>\n",
       "  <tbody>\n",
       "    <tr>\n",
       "      <th>0</th>\n",
       "      <td>무인스터디카페</td>\n",
       "      <td>3710.166667</td>\n",
       "    </tr>\n",
       "    <tr>\n",
       "      <th>1</th>\n",
       "      <td>무인아이스크림</td>\n",
       "      <td>32243.416667</td>\n",
       "    </tr>\n",
       "    <tr>\n",
       "      <th>2</th>\n",
       "      <td>무인카페</td>\n",
       "      <td>2185.000000</td>\n",
       "    </tr>\n",
       "    <tr>\n",
       "      <th>3</th>\n",
       "      <td>무인편의점</td>\n",
       "      <td>5114.916667</td>\n",
       "    </tr>\n",
       "    <tr>\n",
       "      <th>4</th>\n",
       "      <td>커피DT</td>\n",
       "      <td>13816.500000</td>\n",
       "    </tr>\n",
       "    <tr>\n",
       "      <th>5</th>\n",
       "      <td>패스트푸드DT</td>\n",
       "      <td>339035.416667</td>\n",
       "    </tr>\n",
       "  </tbody>\n",
       "</table>\n",
       "</div>"
      ],
      "text/plain": [
       "        구분       매출금액(만원)\n",
       "0  무인스터디카페    3710.166667\n",
       "1  무인아이스크림   32243.416667\n",
       "2     무인카페    2185.000000\n",
       "3    무인편의점    5114.916667\n",
       "4     커피DT   13816.500000\n",
       "5  패스트푸드DT  339035.416667"
      ]
     },
     "execution_count": 13,
     "metadata": {},
     "output_type": "execute_result"
    }
   ],
   "source": [
    "# 인덱스를 초기화 하세요. (drop 옵션을 False로 설정)\n",
    "df1 = df.groupby('구분')[['매출금액(만원)']].mean().reset_index(drop=False)\n",
    "df1"
   ]
  },
  {
   "cell_type": "code",
   "execution_count": 14,
   "metadata": {},
   "outputs": [
    {
     "data": {
      "image/png": "[encoded data removed]",
      "text/plain": [
       "<Figure size 720x432 with 1 Axes>"
      ]
     },
     "metadata": {
      "needs_background": "light"
     },
     "output_type": "display_data"
    }
   ],
   "source": [
    "# '구분' 별 '매출금액(만원)'을 막대그래프로 그리세요.\n",
    "sns.barplot(data=df1,\n",
    "           x='구분',\n",
    "           y='매출금액(만원)')\n",
    "plt.show()"
   ]
  },
  {
   "cell_type": "code",
   "execution_count": 15,
   "metadata": {
    "ExecuteTime": {
     "end_time": "2022-03-07T07:45:59.386820Z",
     "start_time": "2022-03-07T07:45:59.247081Z"
    }
   },
   "outputs": [
    {
     "data": {
      "image/png": "[encoded data removed]",
      "text/plain": [
       "<Figure size 720x432 with 1 Axes>"
      ]
     },
     "metadata": {
      "needs_background": "light"
     },
     "output_type": "display_data"
    }
   ],
   "source": [
    "# 위 그래프를 수평 막대그래프로 그리세요.\n",
    "sns.barplot(\n",
    "           x='매출금액(만원)',\n",
    "           y='구분',data=df1,orient='h')\n",
    "plt.show()"
   ]
  },
  {
   "cell_type": "code",
   "execution_count": 16,
   "metadata": {
    "ExecuteTime": {
     "end_time": "2022-03-07T07:45:59.527313Z",
     "start_time": "2022-03-07T07:45:59.388827Z"
    },
    "scrolled": true
   },
   "outputs": [
    {
     "data": {
      "image/png": "[encoded data removed]",
      "text/plain": [
       "<Figure size 720x432 with 1 Axes>"
      ]
     },
     "metadata": {
      "needs_background": "light"
     },
     "output_type": "display_data"
    }
   ],
   "source": [
    "# 위 그래프에서 '매출금액(만원)'이 큰 순서대로 그래프를 그리세요.\n",
    "sns.barplot(\n",
    "           x='매출금액(만원)',\n",
    "           y='구분',data=df1.sort_values(by='매출금액(만원)',ascending=False),orient='h')\n",
    "plt.show()"
   ]
  },
  {
   "cell_type": "markdown",
   "metadata": {},
   "source": [
    "<br/>\n",
    "<br/>\n",
    "<br/>\n",
    "<br/>"
   ]
  },
  {
   "cell_type": "markdown",
   "metadata": {},
   "source": [
    "### 연령대, 성별 별 유효회원수"
   ]
  },
  {
   "cell_type": "code",
   "execution_count": 17,
   "metadata": {
    "ExecuteTime": {
     "end_time": "2022-03-07T07:45:59.543311Z",
     "start_time": "2022-03-07T07:45:59.529303Z"
    }
   },
   "outputs": [
    {
     "data": {
      "text/html": [
       "<div>\n",
       "<style scoped>\n",
       "    .dataframe tbody tr th:only-of-type {\n",
       "        vertical-align: middle;\n",
       "    }\n",
       "\n",
       "    .dataframe tbody tr th {\n",
       "        vertical-align: top;\n",
       "    }\n",
       "\n",
       "    .dataframe thead th {\n",
       "        text-align: right;\n",
       "    }\n",
       "</style>\n",
       "<table border=\"1\" class=\"dataframe\">\n",
       "  <thead>\n",
       "    <tr style=\"text-align: right;\">\n",
       "      <th></th>\n",
       "      <th>구분</th>\n",
       "      <th>성별</th>\n",
       "      <th>연령대</th>\n",
       "      <th>유효회원수</th>\n",
       "      <th>매출건수</th>\n",
       "      <th>매출금액(만원)</th>\n",
       "      <th>건당금액</th>\n",
       "      <th>소액결재</th>\n",
       "      <th>드라이브쓰루</th>\n",
       "      <th>세대</th>\n",
       "    </tr>\n",
       "  </thead>\n",
       "  <tbody>\n",
       "    <tr>\n",
       "      <th>12</th>\n",
       "      <td>패스트푸드DT</td>\n",
       "      <td>남성</td>\n",
       "      <td>10대</td>\n",
       "      <td>29684</td>\n",
       "      <td>85631</td>\n",
       "      <td>59126</td>\n",
       "      <td>6904</td>\n",
       "      <td>Yes</td>\n",
       "      <td>Yes</td>\n",
       "      <td>청소년</td>\n",
       "    </tr>\n",
       "    <tr>\n",
       "      <th>13</th>\n",
       "      <td>패스트푸드DT</td>\n",
       "      <td>남성</td>\n",
       "      <td>20대</td>\n",
       "      <td>309429</td>\n",
       "      <td>1149950</td>\n",
       "      <td>878159</td>\n",
       "      <td>7636</td>\n",
       "      <td>Yes</td>\n",
       "      <td>Yes</td>\n",
       "      <td>청년</td>\n",
       "    </tr>\n",
       "    <tr>\n",
       "      <th>14</th>\n",
       "      <td>패스트푸드DT</td>\n",
       "      <td>남성</td>\n",
       "      <td>30대</td>\n",
       "      <td>274030</td>\n",
       "      <td>1148255</td>\n",
       "      <td>850586</td>\n",
       "      <td>7407</td>\n",
       "      <td>Yes</td>\n",
       "      <td>Yes</td>\n",
       "      <td>청년</td>\n",
       "    </tr>\n",
       "    <tr>\n",
       "      <th>15</th>\n",
       "      <td>패스트푸드DT</td>\n",
       "      <td>남성</td>\n",
       "      <td>40대</td>\n",
       "      <td>188982</td>\n",
       "      <td>689632</td>\n",
       "      <td>561611</td>\n",
       "      <td>8143</td>\n",
       "      <td>Yes</td>\n",
       "      <td>Yes</td>\n",
       "      <td>중년</td>\n",
       "    </tr>\n",
       "    <tr>\n",
       "      <th>16</th>\n",
       "      <td>패스트푸드DT</td>\n",
       "      <td>남성</td>\n",
       "      <td>50대</td>\n",
       "      <td>91346</td>\n",
       "      <td>284533</td>\n",
       "      <td>231297</td>\n",
       "      <td>8129</td>\n",
       "      <td>Yes</td>\n",
       "      <td>Yes</td>\n",
       "      <td>중년</td>\n",
       "    </tr>\n",
       "    <tr>\n",
       "      <th>17</th>\n",
       "      <td>패스트푸드DT</td>\n",
       "      <td>남성</td>\n",
       "      <td>60대이상</td>\n",
       "      <td>33033</td>\n",
       "      <td>102743</td>\n",
       "      <td>77918</td>\n",
       "      <td>7583</td>\n",
       "      <td>Yes</td>\n",
       "      <td>Yes</td>\n",
       "      <td>노년</td>\n",
       "    </tr>\n",
       "    <tr>\n",
       "      <th>18</th>\n",
       "      <td>패스트푸드DT</td>\n",
       "      <td>여성</td>\n",
       "      <td>10대</td>\n",
       "      <td>20170</td>\n",
       "      <td>47515</td>\n",
       "      <td>28290</td>\n",
       "      <td>5953</td>\n",
       "      <td>Yes</td>\n",
       "      <td>Yes</td>\n",
       "      <td>청소년</td>\n",
       "    </tr>\n",
       "    <tr>\n",
       "      <th>19</th>\n",
       "      <td>패스트푸드DT</td>\n",
       "      <td>여성</td>\n",
       "      <td>20대</td>\n",
       "      <td>175410</td>\n",
       "      <td>475069</td>\n",
       "      <td>356817</td>\n",
       "      <td>7510</td>\n",
       "      <td>Yes</td>\n",
       "      <td>Yes</td>\n",
       "      <td>청년</td>\n",
       "    </tr>\n",
       "    <tr>\n",
       "      <th>20</th>\n",
       "      <td>패스트푸드DT</td>\n",
       "      <td>여성</td>\n",
       "      <td>30대</td>\n",
       "      <td>179309</td>\n",
       "      <td>553159</td>\n",
       "      <td>428994</td>\n",
       "      <td>7755</td>\n",
       "      <td>Yes</td>\n",
       "      <td>Yes</td>\n",
       "      <td>청년</td>\n",
       "    </tr>\n",
       "    <tr>\n",
       "      <th>21</th>\n",
       "      <td>패스트푸드DT</td>\n",
       "      <td>여성</td>\n",
       "      <td>40대</td>\n",
       "      <td>147171</td>\n",
       "      <td>446388</td>\n",
       "      <td>380771</td>\n",
       "      <td>8530</td>\n",
       "      <td>Yes</td>\n",
       "      <td>Yes</td>\n",
       "      <td>중년</td>\n",
       "    </tr>\n",
       "    <tr>\n",
       "      <th>22</th>\n",
       "      <td>패스트푸드DT</td>\n",
       "      <td>여성</td>\n",
       "      <td>50대</td>\n",
       "      <td>75602</td>\n",
       "      <td>195126</td>\n",
       "      <td>160101</td>\n",
       "      <td>8205</td>\n",
       "      <td>Yes</td>\n",
       "      <td>Yes</td>\n",
       "      <td>중년</td>\n",
       "    </tr>\n",
       "    <tr>\n",
       "      <th>23</th>\n",
       "      <td>패스트푸드DT</td>\n",
       "      <td>여성</td>\n",
       "      <td>60대이상</td>\n",
       "      <td>27590</td>\n",
       "      <td>69064</td>\n",
       "      <td>54755</td>\n",
       "      <td>7928</td>\n",
       "      <td>Yes</td>\n",
       "      <td>Yes</td>\n",
       "      <td>노년</td>\n",
       "    </tr>\n",
       "  </tbody>\n",
       "</table>\n",
       "</div>"
      ],
      "text/plain": [
       "         구분  성별    연령대   유효회원수     매출건수  매출금액(만원)  건당금액 소액결재 드라이브쓰루   세대\n",
       "12  패스트푸드DT  남성    10대   29684    85631     59126  6904  Yes    Yes  청소년\n",
       "13  패스트푸드DT  남성    20대  309429  1149950    878159  7636  Yes    Yes   청년\n",
       "14  패스트푸드DT  남성    30대  274030  1148255    850586  7407  Yes    Yes   청년\n",
       "15  패스트푸드DT  남성    40대  188982   689632    561611  8143  Yes    Yes   중년\n",
       "16  패스트푸드DT  남성    50대   91346   284533    231297  8129  Yes    Yes   중년\n",
       "17  패스트푸드DT  남성  60대이상   33033   102743     77918  7583  Yes    Yes   노년\n",
       "18  패스트푸드DT  여성    10대   20170    47515     28290  5953  Yes    Yes  청소년\n",
       "19  패스트푸드DT  여성    20대  175410   475069    356817  7510  Yes    Yes   청년\n",
       "20  패스트푸드DT  여성    30대  179309   553159    428994  7755  Yes    Yes   청년\n",
       "21  패스트푸드DT  여성    40대  147171   446388    380771  8530  Yes    Yes   중년\n",
       "22  패스트푸드DT  여성    50대   75602   195126    160101  8205  Yes    Yes   중년\n",
       "23  패스트푸드DT  여성  60대이상   27590    69064     54755  7928  Yes    Yes   노년"
      ]
     },
     "execution_count": 17,
     "metadata": {},
     "output_type": "execute_result"
    }
   ],
   "source": [
    "# '구분'이 '패스트푸드DT' 인 행만 선택하여 df2에 저장하세요.\n",
    "df2 = df.loc[df['구분']=='패스트푸드DT',:]\n",
    "df2"
   ]
  },
  {
   "cell_type": "code",
   "execution_count": 18,
   "metadata": {
    "ExecuteTime": {
     "end_time": "2022-03-07T07:45:59.734403Z",
     "start_time": "2022-03-07T07:45:59.545303Z"
    }
   },
   "outputs": [
    {
     "data": {
      "image/png": "[encoded data removed]",
      "text/plain": [
       "<Figure size 720x432 with 1 Axes>"
      ]
     },
     "metadata": {
      "needs_background": "light"
     },
     "output_type": "display_data"
    }
   ],
   "source": [
    "# '연령대' 별 '유효회원수'를 막대그래프로 그리세요.\n",
    "# hue 옵션을 '성별'로 설정하고, 제목을 '패스트푸드 드라이브쓰루 회원수'로 설정하세요.\n",
    "\n",
    "sns.barplot(data=df2,\n",
    "           x='연령대',\n",
    "           y='유효회원수',hue='성별',palette='hls').set_title('패스트푸드 드라이브쓰루 회원수')\n",
    "\n",
    "plt.show()"
   ]
  },
  {
   "cell_type": "code",
   "execution_count": 19,
   "metadata": {
    "ExecuteTime": {
     "end_time": "2022-03-07T07:46:00.067571Z",
     "start_time": "2022-03-07T07:45:59.736411Z"
    }
   },
   "outputs": [
    {
     "data": {
      "text/plain": [
       "<Figure size 1152x432 with 0 Axes>"
      ]
     },
     "metadata": {},
     "output_type": "display_data"
    },
    {
     "data": {
      "image/png": "[encoded data removed]",
      "text/plain": [
       "<Figure size 720x432 with 2 Axes>"
      ]
     },
     "metadata": {
      "needs_background": "light"
     },
     "output_type": "display_data"
    }
   ],
   "source": [
    "# df에서 '구분'이 '패스트푸드DT' 인 행만 선택하여 왼쪽 그래프에 그리고, '커피DT' 인 행만 선택하여 오른쪽 그래프에 그리세요.\n",
    "# 그래프는 위와 동일\n",
    "plt.figure(figsize = (16,6))\n",
    "\n",
    "fig, ax = plt.subplots(ncols=2)\n",
    "\n",
    "cond1 = df['구분'] == '패스트푸드DT'\n",
    "cond2 = df['구분'] == '커피DT'\n",
    "sns.barplot(data=df.loc[cond1,:],\n",
    "           x='연령대',\n",
    "           y='유효회원수',hue='성별',palette='hls',ax=ax[0]).set_title('패스트푸드 드라이브쓰루 회원수')\n",
    "sns.barplot(data=df.loc[cond2,:],\n",
    "           x='연령대',\n",
    "           y='유효회원수',hue='성별',palette='hls',ax=ax[1]).set_title('커피 드라이브쓰루 회원수')\n",
    "\n",
    "\n",
    "\n",
    "plt.show()"
   ]
  },
  {
   "cell_type": "code",
   "execution_count": 20,
   "metadata": {
    "ExecuteTime": {
     "end_time": "2022-03-07T07:46:01.010927Z",
     "start_time": "2022-03-07T07:46:00.070567Z"
    }
   },
   "outputs": [
    {
     "data": {
      "image/png": "[encoded data removed]",
      "text/plain": [
       "<Figure size 864x1152 with 6 Axes>"
      ]
     },
     "metadata": {
      "needs_background": "light"
     },
     "output_type": "display_data"
    },
    {
     "data": {
      "text/plain": [
       "<Figure size 864x1152 with 0 Axes>"
      ]
     },
     "metadata": {},
     "output_type": "display_data"
    },
    {
     "data": {
      "text/plain": [
       "<Figure size 864x1152 with 0 Axes>"
      ]
     },
     "metadata": {},
     "output_type": "display_data"
    },
    {
     "data": {
      "text/plain": [
       "<Figure size 864x1152 with 0 Axes>"
      ]
     },
     "metadata": {},
     "output_type": "display_data"
    },
    {
     "data": {
      "text/plain": [
       "<Figure size 864x1152 with 0 Axes>"
      ]
     },
     "metadata": {},
     "output_type": "display_data"
    },
    {
     "data": {
      "text/plain": [
       "<Figure size 864x1152 with 0 Axes>"
      ]
     },
     "metadata": {},
     "output_type": "display_data"
    },
    {
     "data": {
      "text/plain": [
       "<Figure size 864x1152 with 0 Axes>"
      ]
     },
     "metadata": {},
     "output_type": "display_data"
    }
   ],
   "source": [
    "# for 반복문을 사용하여 각 '구분' 별 그래프를 subplot 하세요.\n",
    "# 그래프는 위와 동일\n",
    "\n",
    "fig, axes = plt.subplots(3,2, figsize=(12,16))\n",
    "# plt.figure(figsize = (12,16))\n",
    "\n",
    "nx=0\n",
    "ny=0\n",
    "for i in df['구분'].unique() :\n",
    "    plt.figure(figsize = (12,16))\n",
    "    cond1 = df['구분'] == i\n",
    "    sns.barplot(data=df.loc[cond1,:],\n",
    "           x='연령대',\n",
    "           y='유효회원수',hue='성별',palette='hls',ax=axes[nx,ny%2]).set_title(f'{i} 회원수')\n",
    "    if ny%2==1 : nx+=1\n",
    "    ny+=1\n",
    "\n",
    "plt.show()"
   ]
  },
  {
   "cell_type": "markdown",
   "metadata": {},
   "source": [
    "<br/>\n",
    "<br/>"
   ]
  },
  {
   "cell_type": "markdown",
   "metadata": {},
   "source": [
    "- (참고) 2개의 y축 그리기"
   ]
  },
  {
   "cell_type": "code",
   "execution_count": 21,
   "metadata": {
    "ExecuteTime": {
     "end_time": "2022-03-07T07:46:01.303473Z",
     "start_time": "2022-03-07T07:46:01.011938Z"
    }
   },
   "outputs": [
    {
     "data": {
      "image/png": "[encoded data removed]",
      "text/plain": [
       "<Figure size 720x432 with 2 Axes>"
      ]
     },
     "metadata": {
      "needs_background": "light"
     },
     "output_type": "display_data"
    }
   ],
   "source": [
    "plt.rcParams['axes.spines.top'] = False # 위쪽 축 제거\n",
    "\n",
    "fig, ax = plt.subplots()\n",
    "ax2 = ax.twinx()\n",
    "\n",
    "sns.barplot(ax = ax, data = df2, x = '연령대', y = '유효회원수', hue = '성별', palette = 'hls')\n",
    "sns.lineplot(ax = ax2, data = df2, x = '연령대', y = '건당금액', hue = '성별', palette = ['red', 'blue'], marker = 'o')\n",
    "plt.title('패스트푸드 드라이브쓰루')\n",
    "plt.grid(axis = 'y', color = 'lightgray', linestyle = '--', linewidth = 1.5)\n",
    "plt.show()"
   ]
  },
  {
   "cell_type": "markdown",
   "metadata": {},
   "source": [
    "<br/>\n",
    "<br/>\n",
    "<br/>\n",
    "<br/>"
   ]
  },
  {
   "cell_type": "markdown",
   "metadata": {},
   "source": [
    "### 연령대, 드라이브쓰루 별 건당금액"
   ]
  },
  {
   "cell_type": "code",
   "execution_count": 22,
   "metadata": {
    "ExecuteTime": {
     "end_time": "2022-03-07T07:46:01.318998Z",
     "start_time": "2022-03-07T07:46:01.304461Z"
    }
   },
   "outputs": [
    {
     "data": {
      "text/html": [
       "<div>\n",
       "<style scoped>\n",
       "    .dataframe tbody tr th:only-of-type {\n",
       "        vertical-align: middle;\n",
       "    }\n",
       "\n",
       "    .dataframe tbody tr th {\n",
       "        vertical-align: top;\n",
       "    }\n",
       "\n",
       "    .dataframe thead th {\n",
       "        text-align: right;\n",
       "    }\n",
       "</style>\n",
       "<table border=\"1\" class=\"dataframe\">\n",
       "  <thead>\n",
       "    <tr style=\"text-align: right;\">\n",
       "      <th></th>\n",
       "      <th></th>\n",
       "      <th>건당금액</th>\n",
       "    </tr>\n",
       "    <tr>\n",
       "      <th>드라이브쓰루</th>\n",
       "      <th>연령대</th>\n",
       "      <th></th>\n",
       "    </tr>\n",
       "  </thead>\n",
       "  <tbody>\n",
       "    <tr>\n",
       "      <th rowspan=\"6\" valign=\"top\">No</th>\n",
       "      <th>10대</th>\n",
       "      <td>5439.500</td>\n",
       "    </tr>\n",
       "    <tr>\n",
       "      <th>20대</th>\n",
       "      <td>7475.375</td>\n",
       "    </tr>\n",
       "    <tr>\n",
       "      <th>30대</th>\n",
       "      <td>8702.125</td>\n",
       "    </tr>\n",
       "    <tr>\n",
       "      <th>40대</th>\n",
       "      <td>11814.500</td>\n",
       "    </tr>\n",
       "    <tr>\n",
       "      <th>50대</th>\n",
       "      <td>13685.500</td>\n",
       "    </tr>\n",
       "    <tr>\n",
       "      <th>60대이상</th>\n",
       "      <td>13448.750</td>\n",
       "    </tr>\n",
       "    <tr>\n",
       "      <th rowspan=\"6\" valign=\"top\">Yes</th>\n",
       "      <th>10대</th>\n",
       "      <td>7111.750</td>\n",
       "    </tr>\n",
       "    <tr>\n",
       "      <th>20대</th>\n",
       "      <td>8058.500</td>\n",
       "    </tr>\n",
       "    <tr>\n",
       "      <th>30대</th>\n",
       "      <td>8446.250</td>\n",
       "    </tr>\n",
       "    <tr>\n",
       "      <th>40대</th>\n",
       "      <td>9088.000</td>\n",
       "    </tr>\n",
       "    <tr>\n",
       "      <th>50대</th>\n",
       "      <td>9214.000</td>\n",
       "    </tr>\n",
       "    <tr>\n",
       "      <th>60대이상</th>\n",
       "      <td>9377.500</td>\n",
       "    </tr>\n",
       "  </tbody>\n",
       "</table>\n",
       "</div>"
      ],
      "text/plain": [
       "                   건당금액\n",
       "드라이브쓰루 연령대             \n",
       "No     10대     5439.500\n",
       "       20대     7475.375\n",
       "       30대     8702.125\n",
       "       40대    11814.500\n",
       "       50대    13685.500\n",
       "       60대이상  13448.750\n",
       "Yes    10대     7111.750\n",
       "       20대     8058.500\n",
       "       30대     8446.250\n",
       "       40대     9088.000\n",
       "       50대     9214.000\n",
       "       60대이상   9377.500"
      ]
     },
     "execution_count": 22,
     "metadata": {},
     "output_type": "execute_result"
    }
   ],
   "source": [
    "# df에서 '드라이브쓰루', '연령대' 별 '건당금액'의 평균을 df3에 저장하세요.\n",
    "# df3 = df.groupby(['드라이브쓰루','연령대'])[['건당금액']].mean()\n",
    "df3 = df.pivot_table(index=['드라이브쓰루','연령대'],values='건당금액',aggfunc='mean')\n",
    "df3"
   ]
  },
  {
   "cell_type": "code",
   "execution_count": 23,
   "metadata": {
    "ExecuteTime": {
     "end_time": "2022-03-07T07:46:01.335113Z",
     "start_time": "2022-03-07T07:46:01.323124Z"
    }
   },
   "outputs": [
    {
     "data": {
      "text/html": [
       "<div>\n",
       "<style scoped>\n",
       "    .dataframe tbody tr th:only-of-type {\n",
       "        vertical-align: middle;\n",
       "    }\n",
       "\n",
       "    .dataframe tbody tr th {\n",
       "        vertical-align: top;\n",
       "    }\n",
       "\n",
       "    .dataframe thead th {\n",
       "        text-align: right;\n",
       "    }\n",
       "</style>\n",
       "<table border=\"1\" class=\"dataframe\">\n",
       "  <thead>\n",
       "    <tr style=\"text-align: right;\">\n",
       "      <th></th>\n",
       "      <th>드라이브쓰루</th>\n",
       "      <th>연령대</th>\n",
       "      <th>건당금액</th>\n",
       "    </tr>\n",
       "  </thead>\n",
       "  <tbody>\n",
       "    <tr>\n",
       "      <th>0</th>\n",
       "      <td>No</td>\n",
       "      <td>10대</td>\n",
       "      <td>5439.500</td>\n",
       "    </tr>\n",
       "    <tr>\n",
       "      <th>1</th>\n",
       "      <td>No</td>\n",
       "      <td>20대</td>\n",
       "      <td>7475.375</td>\n",
       "    </tr>\n",
       "    <tr>\n",
       "      <th>2</th>\n",
       "      <td>No</td>\n",
       "      <td>30대</td>\n",
       "      <td>8702.125</td>\n",
       "    </tr>\n",
       "    <tr>\n",
       "      <th>3</th>\n",
       "      <td>No</td>\n",
       "      <td>40대</td>\n",
       "      <td>11814.500</td>\n",
       "    </tr>\n",
       "    <tr>\n",
       "      <th>4</th>\n",
       "      <td>No</td>\n",
       "      <td>50대</td>\n",
       "      <td>13685.500</td>\n",
       "    </tr>\n",
       "    <tr>\n",
       "      <th>5</th>\n",
       "      <td>No</td>\n",
       "      <td>60대이상</td>\n",
       "      <td>13448.750</td>\n",
       "    </tr>\n",
       "    <tr>\n",
       "      <th>6</th>\n",
       "      <td>Yes</td>\n",
       "      <td>10대</td>\n",
       "      <td>7111.750</td>\n",
       "    </tr>\n",
       "    <tr>\n",
       "      <th>7</th>\n",
       "      <td>Yes</td>\n",
       "      <td>20대</td>\n",
       "      <td>8058.500</td>\n",
       "    </tr>\n",
       "    <tr>\n",
       "      <th>8</th>\n",
       "      <td>Yes</td>\n",
       "      <td>30대</td>\n",
       "      <td>8446.250</td>\n",
       "    </tr>\n",
       "    <tr>\n",
       "      <th>9</th>\n",
       "      <td>Yes</td>\n",
       "      <td>40대</td>\n",
       "      <td>9088.000</td>\n",
       "    </tr>\n",
       "    <tr>\n",
       "      <th>10</th>\n",
       "      <td>Yes</td>\n",
       "      <td>50대</td>\n",
       "      <td>9214.000</td>\n",
       "    </tr>\n",
       "    <tr>\n",
       "      <th>11</th>\n",
       "      <td>Yes</td>\n",
       "      <td>60대이상</td>\n",
       "      <td>9377.500</td>\n",
       "    </tr>\n",
       "  </tbody>\n",
       "</table>\n",
       "</div>"
      ],
      "text/plain": [
       "   드라이브쓰루    연령대       건당금액\n",
       "0      No    10대   5439.500\n",
       "1      No    20대   7475.375\n",
       "2      No    30대   8702.125\n",
       "3      No    40대  11814.500\n",
       "4      No    50대  13685.500\n",
       "5      No  60대이상  13448.750\n",
       "6     Yes    10대   7111.750\n",
       "7     Yes    20대   8058.500\n",
       "8     Yes    30대   8446.250\n",
       "9     Yes    40대   9088.000\n",
       "10    Yes    50대   9214.000\n",
       "11    Yes  60대이상   9377.500"
      ]
     },
     "execution_count": 23,
     "metadata": {},
     "output_type": "execute_result"
    }
   ],
   "source": [
    "# 인덱스를 초기화 하세요. (drop 옵션을 False로 설정)\n",
    "df3 = df3.reset_index(drop=False)\n",
    "df3"
   ]
  },
  {
   "cell_type": "code",
   "execution_count": 24,
   "metadata": {
    "ExecuteTime": {
     "end_time": "2022-03-07T07:46:01.351130Z",
     "start_time": "2022-03-07T07:46:01.338115Z"
    }
   },
   "outputs": [
    {
     "data": {
      "text/html": [
       "<svg  width=\"330\" height=\"55\"><rect x=\"0\" y=\"0\" width=\"55\" height=\"55\" style=\"fill:#a6cee3;stroke-width:2;stroke:rgb(255,255,255)\"/><rect x=\"55\" y=\"0\" width=\"55\" height=\"55\" style=\"fill:#1f78b4;stroke-width:2;stroke:rgb(255,255,255)\"/><rect x=\"110\" y=\"0\" width=\"55\" height=\"55\" style=\"fill:#b2df8a;stroke-width:2;stroke:rgb(255,255,255)\"/><rect x=\"165\" y=\"0\" width=\"55\" height=\"55\" style=\"fill:#33a02c;stroke-width:2;stroke:rgb(255,255,255)\"/><rect x=\"220\" y=\"0\" width=\"55\" height=\"55\" style=\"fill:#fb9a99;stroke-width:2;stroke:rgb(255,255,255)\"/><rect x=\"275\" y=\"0\" width=\"55\" height=\"55\" style=\"fill:#e31a1c;stroke-width:2;stroke:rgb(255,255,255)\"/></svg>"
      ],
      "text/plain": [
       "[(0.6509803921568628, 0.807843137254902, 0.8901960784313725),\n",
       " (0.12156862745098039, 0.47058823529411764, 0.7058823529411765),\n",
       " (0.6980392156862745, 0.8745098039215686, 0.5411764705882353),\n",
       " (0.2, 0.6274509803921569, 0.17254901960784313),\n",
       " (0.984313725490196, 0.6039215686274509, 0.6),\n",
       " (0.8901960784313725, 0.10196078431372549, 0.10980392156862745)]"
      ]
     },
     "execution_count": 24,
     "metadata": {},
     "output_type": "execute_result"
    }
   ],
   "source": [
    "# 코드를 실행하세요.\n",
    "\n",
    "# 그래프 축 설정\n",
    "plt.rcParams['axes.spines.top'] = False # 위쪽 축 제거\n",
    "plt.rcParams['axes.spines.left'] = False # 오른쪽 축 제거\n",
    "plt.rcParams['axes.spines.right'] = False # 오른쪽 축 제거\n",
    "\n",
    "# 색깔 설정\n",
    "colors = sns.color_palette('Paired', 6)\n",
    "colors1 = [colors[4], colors[0]]\n",
    "colors2 = [colors[5], colors[1]]\n",
    "colors"
   ]
  },
  {
   "cell_type": "code",
   "execution_count": 25,
   "metadata": {},
   "outputs": [
    {
     "data": {
      "text/html": [
       "<div>\n",
       "<style scoped>\n",
       "    .dataframe tbody tr th:only-of-type {\n",
       "        vertical-align: middle;\n",
       "    }\n",
       "\n",
       "    .dataframe tbody tr th {\n",
       "        vertical-align: top;\n",
       "    }\n",
       "\n",
       "    .dataframe thead th {\n",
       "        text-align: right;\n",
       "    }\n",
       "</style>\n",
       "<table border=\"1\" class=\"dataframe\">\n",
       "  <thead>\n",
       "    <tr style=\"text-align: right;\">\n",
       "      <th></th>\n",
       "      <th>드라이브쓰루</th>\n",
       "      <th>연령대</th>\n",
       "      <th>건당금액</th>\n",
       "    </tr>\n",
       "  </thead>\n",
       "  <tbody>\n",
       "    <tr>\n",
       "      <th>0</th>\n",
       "      <td>No</td>\n",
       "      <td>10대</td>\n",
       "      <td>5439.500</td>\n",
       "    </tr>\n",
       "    <tr>\n",
       "      <th>1</th>\n",
       "      <td>No</td>\n",
       "      <td>20대</td>\n",
       "      <td>7475.375</td>\n",
       "    </tr>\n",
       "    <tr>\n",
       "      <th>2</th>\n",
       "      <td>No</td>\n",
       "      <td>30대</td>\n",
       "      <td>8702.125</td>\n",
       "    </tr>\n",
       "    <tr>\n",
       "      <th>3</th>\n",
       "      <td>No</td>\n",
       "      <td>40대</td>\n",
       "      <td>11814.500</td>\n",
       "    </tr>\n",
       "    <tr>\n",
       "      <th>4</th>\n",
       "      <td>No</td>\n",
       "      <td>50대</td>\n",
       "      <td>13685.500</td>\n",
       "    </tr>\n",
       "    <tr>\n",
       "      <th>5</th>\n",
       "      <td>No</td>\n",
       "      <td>60대이상</td>\n",
       "      <td>13448.750</td>\n",
       "    </tr>\n",
       "    <tr>\n",
       "      <th>6</th>\n",
       "      <td>Yes</td>\n",
       "      <td>10대</td>\n",
       "      <td>7111.750</td>\n",
       "    </tr>\n",
       "    <tr>\n",
       "      <th>7</th>\n",
       "      <td>Yes</td>\n",
       "      <td>20대</td>\n",
       "      <td>8058.500</td>\n",
       "    </tr>\n",
       "    <tr>\n",
       "      <th>8</th>\n",
       "      <td>Yes</td>\n",
       "      <td>30대</td>\n",
       "      <td>8446.250</td>\n",
       "    </tr>\n",
       "    <tr>\n",
       "      <th>9</th>\n",
       "      <td>Yes</td>\n",
       "      <td>40대</td>\n",
       "      <td>9088.000</td>\n",
       "    </tr>\n",
       "    <tr>\n",
       "      <th>10</th>\n",
       "      <td>Yes</td>\n",
       "      <td>50대</td>\n",
       "      <td>9214.000</td>\n",
       "    </tr>\n",
       "    <tr>\n",
       "      <th>11</th>\n",
       "      <td>Yes</td>\n",
       "      <td>60대이상</td>\n",
       "      <td>9377.500</td>\n",
       "    </tr>\n",
       "  </tbody>\n",
       "</table>\n",
       "</div>"
      ],
      "text/plain": [
       "   드라이브쓰루    연령대       건당금액\n",
       "0      No    10대   5439.500\n",
       "1      No    20대   7475.375\n",
       "2      No    30대   8702.125\n",
       "3      No    40대  11814.500\n",
       "4      No    50대  13685.500\n",
       "5      No  60대이상  13448.750\n",
       "6     Yes    10대   7111.750\n",
       "7     Yes    20대   8058.500\n",
       "8     Yes    30대   8446.250\n",
       "9     Yes    40대   9088.000\n",
       "10    Yes    50대   9214.000\n",
       "11    Yes  60대이상   9377.500"
      ]
     },
     "execution_count": 25,
     "metadata": {},
     "output_type": "execute_result"
    }
   ],
   "source": [
    "df3"
   ]
  },
  {
   "cell_type": "code",
   "execution_count": 26,
   "metadata": {
    "ExecuteTime": {
     "end_time": "2022-03-07T07:46:01.574034Z",
     "start_time": "2022-03-07T07:46:01.352117Z"
    }
   },
   "outputs": [
    {
     "data": {
      "image/png": "[encoded data removed]",
      "text/plain": [
       "<Figure size 720x432 with 1 Axes>"
      ]
     },
     "metadata": {
      "needs_background": "light"
     },
     "output_type": "display_data"
    }
   ],
   "source": [
    "# df3에서 '연령대' 별 '건당금액' 을 막대 그래프와 선 그래프로 그리세요.\n",
    "# 두 그래프 모두 hue 옵션을 '드라이브쓰루'로 설정하고, palette 옵션을 각각 colors1, colors2로 설정하세요.\n",
    "\n",
    "# 막대 그래프\n",
    "# 추가 옵션 : alpha = 0.8\n",
    "\n",
    "sns.barplot(data=df3,\n",
    "           x='연령대',\n",
    "           y='건당금액',hue='드라이브쓰루',palette=colors1,alpha=0.8)\n",
    "# 선 그래프\n",
    "# 추가 옵션 : legend = False, style = '드라이브쓰루', markers = [\"^\", \"o\"],\n",
    "#             markersize = 12, markeredgewidth = 0.5, dashes = [(1,0), (1,0)]\n",
    "\n",
    "\n",
    "sns.lineplot(data=df3,\n",
    "           x='연령대',\n",
    "           y='건당금액',hue='드라이브쓰루',palette=colors2,legend = False, style = '드라이브쓰루', markers = [\"^\", \"o\"],\n",
    "            markersize = 12, markeredgewidth = 0.5, dashes = [(1,0), (1,0)])\n",
    "\n",
    "# 제목, 그리드 설정\n",
    "plt.title('연령대 별 드라이브쓰루 건당 금액', fontsize = 16, y = 1.05)\n",
    "plt.grid(axis = 'y', color = 'lightgray', linestyle = '--', linewidth = 1.5)\n",
    "plt.show()"
   ]
  },
  {
   "cell_type": "markdown",
   "metadata": {},
   "source": [
    "<br/>\n",
    "<br/>\n",
    "<br/>\n",
    "<br/>"
   ]
  },
  {
   "cell_type": "markdown",
   "metadata": {},
   "source": [
    "### 업종, 세대 별 건당 금액"
   ]
  },
  {
   "cell_type": "code",
   "execution_count": 27,
   "metadata": {
    "ExecuteTime": {
     "end_time": "2022-03-07T07:46:01.589252Z",
     "start_time": "2022-03-07T07:46:01.576024Z"
    }
   },
   "outputs": [
    {
     "data": {
      "text/html": [
       "<div>\n",
       "<style scoped>\n",
       "    .dataframe tbody tr th:only-of-type {\n",
       "        vertical-align: middle;\n",
       "    }\n",
       "\n",
       "    .dataframe tbody tr th {\n",
       "        vertical-align: top;\n",
       "    }\n",
       "\n",
       "    .dataframe thead th {\n",
       "        text-align: right;\n",
       "    }\n",
       "</style>\n",
       "<table border=\"1\" class=\"dataframe\">\n",
       "  <thead>\n",
       "    <tr style=\"text-align: right;\">\n",
       "      <th></th>\n",
       "      <th>구분</th>\n",
       "      <th>세대</th>\n",
       "      <th>건당금액</th>\n",
       "    </tr>\n",
       "  </thead>\n",
       "  <tbody>\n",
       "    <tr>\n",
       "      <th>0</th>\n",
       "      <td>무인스터디카페</td>\n",
       "      <td>노년</td>\n",
       "      <td>39157.50</td>\n",
       "    </tr>\n",
       "    <tr>\n",
       "      <th>1</th>\n",
       "      <td>무인스터디카페</td>\n",
       "      <td>중년</td>\n",
       "      <td>36497.00</td>\n",
       "    </tr>\n",
       "    <tr>\n",
       "      <th>2</th>\n",
       "      <td>무인스터디카페</td>\n",
       "      <td>청년</td>\n",
       "      <td>20397.00</td>\n",
       "    </tr>\n",
       "    <tr>\n",
       "      <th>3</th>\n",
       "      <td>무인스터디카페</td>\n",
       "      <td>청소년</td>\n",
       "      <td>13804.50</td>\n",
       "    </tr>\n",
       "    <tr>\n",
       "      <th>4</th>\n",
       "      <td>무인아이스크림</td>\n",
       "      <td>노년</td>\n",
       "      <td>6250.00</td>\n",
       "    </tr>\n",
       "    <tr>\n",
       "      <th>5</th>\n",
       "      <td>무인아이스크림</td>\n",
       "      <td>중년</td>\n",
       "      <td>6281.75</td>\n",
       "    </tr>\n",
       "    <tr>\n",
       "      <th>6</th>\n",
       "      <td>무인아이스크림</td>\n",
       "      <td>청년</td>\n",
       "      <td>4639.75</td>\n",
       "    </tr>\n",
       "    <tr>\n",
       "      <th>7</th>\n",
       "      <td>무인아이스크림</td>\n",
       "      <td>청소년</td>\n",
       "      <td>2102.50</td>\n",
       "    </tr>\n",
       "    <tr>\n",
       "      <th>8</th>\n",
       "      <td>무인카페</td>\n",
       "      <td>노년</td>\n",
       "      <td>2089.50</td>\n",
       "    </tr>\n",
       "    <tr>\n",
       "      <th>9</th>\n",
       "      <td>무인카페</td>\n",
       "      <td>중년</td>\n",
       "      <td>2354.00</td>\n",
       "    </tr>\n",
       "    <tr>\n",
       "      <th>10</th>\n",
       "      <td>무인카페</td>\n",
       "      <td>청년</td>\n",
       "      <td>2301.25</td>\n",
       "    </tr>\n",
       "    <tr>\n",
       "      <th>11</th>\n",
       "      <td>무인카페</td>\n",
       "      <td>청소년</td>\n",
       "      <td>2020.00</td>\n",
       "    </tr>\n",
       "    <tr>\n",
       "      <th>12</th>\n",
       "      <td>무인편의점</td>\n",
       "      <td>노년</td>\n",
       "      <td>6298.00</td>\n",
       "    </tr>\n",
       "    <tr>\n",
       "      <th>13</th>\n",
       "      <td>무인편의점</td>\n",
       "      <td>중년</td>\n",
       "      <td>5867.25</td>\n",
       "    </tr>\n",
       "    <tr>\n",
       "      <th>14</th>\n",
       "      <td>무인편의점</td>\n",
       "      <td>청년</td>\n",
       "      <td>5017.00</td>\n",
       "    </tr>\n",
       "    <tr>\n",
       "      <th>15</th>\n",
       "      <td>무인편의점</td>\n",
       "      <td>청소년</td>\n",
       "      <td>3831.00</td>\n",
       "    </tr>\n",
       "    <tr>\n",
       "      <th>16</th>\n",
       "      <td>커피DT</td>\n",
       "      <td>노년</td>\n",
       "      <td>10999.50</td>\n",
       "    </tr>\n",
       "    <tr>\n",
       "      <th>17</th>\n",
       "      <td>커피DT</td>\n",
       "      <td>중년</td>\n",
       "      <td>10050.25</td>\n",
       "    </tr>\n",
       "    <tr>\n",
       "      <th>18</th>\n",
       "      <td>커피DT</td>\n",
       "      <td>청년</td>\n",
       "      <td>8927.75</td>\n",
       "    </tr>\n",
       "    <tr>\n",
       "      <th>19</th>\n",
       "      <td>커피DT</td>\n",
       "      <td>청소년</td>\n",
       "      <td>7795.00</td>\n",
       "    </tr>\n",
       "    <tr>\n",
       "      <th>20</th>\n",
       "      <td>패스트푸드DT</td>\n",
       "      <td>노년</td>\n",
       "      <td>7755.50</td>\n",
       "    </tr>\n",
       "    <tr>\n",
       "      <th>21</th>\n",
       "      <td>패스트푸드DT</td>\n",
       "      <td>중년</td>\n",
       "      <td>8251.75</td>\n",
       "    </tr>\n",
       "    <tr>\n",
       "      <th>22</th>\n",
       "      <td>패스트푸드DT</td>\n",
       "      <td>청년</td>\n",
       "      <td>7577.00</td>\n",
       "    </tr>\n",
       "    <tr>\n",
       "      <th>23</th>\n",
       "      <td>패스트푸드DT</td>\n",
       "      <td>청소년</td>\n",
       "      <td>6428.50</td>\n",
       "    </tr>\n",
       "  </tbody>\n",
       "</table>\n",
       "</div>"
      ],
      "text/plain": [
       "         구분   세대      건당금액\n",
       "0   무인스터디카페   노년  39157.50\n",
       "1   무인스터디카페   중년  36497.00\n",
       "2   무인스터디카페   청년  20397.00\n",
       "3   무인스터디카페  청소년  13804.50\n",
       "4   무인아이스크림   노년   6250.00\n",
       "5   무인아이스크림   중년   6281.75\n",
       "6   무인아이스크림   청년   4639.75\n",
       "7   무인아이스크림  청소년   2102.50\n",
       "8      무인카페   노년   2089.50\n",
       "9      무인카페   중년   2354.00\n",
       "10     무인카페   청년   2301.25\n",
       "11     무인카페  청소년   2020.00\n",
       "12    무인편의점   노년   6298.00\n",
       "13    무인편의점   중년   5867.25\n",
       "14    무인편의점   청년   5017.00\n",
       "15    무인편의점  청소년   3831.00\n",
       "16     커피DT   노년  10999.50\n",
       "17     커피DT   중년  10050.25\n",
       "18     커피DT   청년   8927.75\n",
       "19     커피DT  청소년   7795.00\n",
       "20  패스트푸드DT   노년   7755.50\n",
       "21  패스트푸드DT   중년   8251.75\n",
       "22  패스트푸드DT   청년   7577.00\n",
       "23  패스트푸드DT  청소년   6428.50"
      ]
     },
     "execution_count": 27,
     "metadata": {},
     "output_type": "execute_result"
    }
   ],
   "source": [
    "# df에서 '구분', '세대' 별 '건당금액'의 평균을 df4에 저장하고, 인덱스를 초기화하세요.\n",
    "df4 = df.pivot_table(index=['구분','세대'],values='건당금액',aggfunc='mean').reset_index()\n",
    "\n",
    "\n",
    "df4"
   ]
  },
  {
   "cell_type": "code",
   "execution_count": 28,
   "metadata": {
    "ExecuteTime": {
     "end_time": "2022-03-07T07:46:01.605255Z",
     "start_time": "2022-03-07T07:46:01.590254Z"
    }
   },
   "outputs": [
    {
     "data": {
      "text/html": [
       "<div>\n",
       "<style scoped>\n",
       "    .dataframe tbody tr th:only-of-type {\n",
       "        vertical-align: middle;\n",
       "    }\n",
       "\n",
       "    .dataframe tbody tr th {\n",
       "        vertical-align: top;\n",
       "    }\n",
       "\n",
       "    .dataframe thead th {\n",
       "        text-align: right;\n",
       "    }\n",
       "</style>\n",
       "<table border=\"1\" class=\"dataframe\">\n",
       "  <thead>\n",
       "    <tr style=\"text-align: right;\">\n",
       "      <th></th>\n",
       "      <th>구분</th>\n",
       "      <th>건당금액</th>\n",
       "    </tr>\n",
       "  </thead>\n",
       "  <tbody>\n",
       "    <tr>\n",
       "      <th>0</th>\n",
       "      <td>무인스터디카페</td>\n",
       "      <td>27791.666667</td>\n",
       "    </tr>\n",
       "    <tr>\n",
       "      <th>1</th>\n",
       "      <td>무인아이스크림</td>\n",
       "      <td>5032.583333</td>\n",
       "    </tr>\n",
       "    <tr>\n",
       "      <th>2</th>\n",
       "      <td>무인카페</td>\n",
       "      <td>2236.666667</td>\n",
       "    </tr>\n",
       "    <tr>\n",
       "      <th>3</th>\n",
       "      <td>무인편의점</td>\n",
       "      <td>5316.250000</td>\n",
       "    </tr>\n",
       "    <tr>\n",
       "      <th>4</th>\n",
       "      <td>커피DT</td>\n",
       "      <td>9458.416667</td>\n",
       "    </tr>\n",
       "    <tr>\n",
       "      <th>5</th>\n",
       "      <td>패스트푸드DT</td>\n",
       "      <td>7640.250000</td>\n",
       "    </tr>\n",
       "  </tbody>\n",
       "</table>\n",
       "</div>"
      ],
      "text/plain": [
       "        구분          건당금액\n",
       "0  무인스터디카페  27791.666667\n",
       "1  무인아이스크림   5032.583333\n",
       "2     무인카페   2236.666667\n",
       "3    무인편의점   5316.250000\n",
       "4     커피DT   9458.416667\n",
       "5  패스트푸드DT   7640.250000"
      ]
     },
     "execution_count": 28,
     "metadata": {},
     "output_type": "execute_result"
    }
   ],
   "source": [
    "# df에서 '구분' 별 '건당금액'의 평균을 df5에 저장하고, 인덱스를 초기화하세요.\n",
    "df5 = df.pivot_table(index='구분',values='건당금액',aggfunc='mean').reset_index()\n",
    "\n",
    "\n",
    "df5"
   ]
  },
  {
   "cell_type": "code",
   "execution_count": 29,
   "metadata": {
    "ExecuteTime": {
     "end_time": "2022-03-07T07:46:01.875623Z",
     "start_time": "2022-03-07T07:46:01.607258Z"
    }
   },
   "outputs": [
    {
     "data": {
      "image/png": "[encoded data removed]",
      "text/plain": [
       "<Figure size 720x432 with 1 Axes>"
      ]
     },
     "metadata": {
      "needs_background": "light"
     },
     "output_type": "display_data"
    }
   ],
   "source": [
    "# df4에서 '구분' 별 '건당금액'을 막대 그래프로 그리세요.\n",
    "# hue 옵션을 '세대'로 설정하고, hue_order 옵션을 ['청소년', '청년', '중년', '노년']로 설정하세요.\n",
    "# 추가 옵션 : palette = 'hls'\n",
    "\n",
    "sns.barplot(data=df4,\n",
    "           x='구분',\n",
    "           y='건당금액',\n",
    "           hue='세대',\n",
    "           hue_order=['청소년', '청년', '중년', '노년'],palette='hls')\n",
    "\n",
    "\n",
    "# df5에서 '구분' 별 '건당금액'을 선 그래프로 그리세요.\n",
    "# 추가 옵션 : label = '평균', color = 'red', marker = 'o', markersize = 8, markeredgewidth = 0.5\n",
    "\n",
    "\n",
    "sns.lineplot(data=df5,\n",
    "            x='구분',\n",
    "            y='건당금액',\n",
    "            label = '평균', color = 'red', marker = 'o', markersize = 8, markeredgewidth = 0.5)\n",
    "\n",
    "\n",
    "# 제목, 그리드 설정\n",
    "plt.title('업종 별 건당 금액', fontsize = 16, y = 1.05)\n",
    "plt.grid(axis = 'y', color = 'lightgray', linestyle = '--', linewidth = 1.5)\n",
    "plt.show()"
   ]
  },
  {
   "cell_type": "code",
   "execution_count": 30,
   "metadata": {
    "ExecuteTime": {
     "end_time": "2022-03-07T07:46:02.112202Z",
     "start_time": "2022-03-07T07:46:01.877630Z"
    }
   },
   "outputs": [
    {
     "data": {
      "image/png": "[encoded data removed]",
      "text/plain": [
       "<Figure size 720x432 with 1 Axes>"
      ]
     },
     "metadata": {
      "needs_background": "light"
     },
     "output_type": "display_data"
    }
   ],
   "source": [
    "# df4와 df5에서 '무인스터디카페'를 제외하고 위와 같은 그래프를 그리세요.\n",
    "cond1 = df4['구분']=='무인스터디카페'\n",
    "cond2 = df5['구분']=='무인스터디카페'\n",
    "df4_temp = df4.loc[~cond1,:]\n",
    "df5_temp = df5.loc[~cond2,:]\n",
    "\n",
    "\n",
    "sns.barplot(data=df4_temp,\n",
    "           x='구분',\n",
    "           y='건당금액',\n",
    "           hue='세대',\n",
    "           hue_order=['청소년', '청년', '중년', '노년'],palette='hls')\n",
    "\n",
    "\n",
    "sns.lineplot(data=df5_temp,\n",
    "            x='구분',\n",
    "            y='건당금액',\n",
    "            label = '평균', color = 'red', marker = 'o', markersize = 8, markeredgewidth = 0.5)\n",
    "\n",
    "\n",
    "plt.title('업종 별 건당 금액', fontsize = 16, y = 1.05)\n",
    "plt.grid(axis = 'y', color = 'lightgray', linestyle = '--', linewidth = 1.5)\n",
    "plt.show()"
   ]
  },
  {
   "cell_type": "markdown",
   "metadata": {},
   "source": [
    "<br/>\n",
    "<br/>\n",
    "<br/>\n",
    "<br/>"
   ]
  },
  {
   "cell_type": "markdown",
   "metadata": {},
   "source": [
    "### (참고) 20, 30대 이용 현황"
   ]
  },
  {
   "cell_type": "code",
   "execution_count": 70,
   "metadata": {
    "ExecuteTime": {
     "end_time": "2022-03-07T07:46:02.128202Z",
     "start_time": "2022-03-07T07:46:02.113190Z"
    },
    "scrolled": false
   },
   "outputs": [
    {
     "data": {
      "text/html": [
       "<div>\n",
       "<style scoped>\n",
       "    .dataframe tbody tr th:only-of-type {\n",
       "        vertical-align: middle;\n",
       "    }\n",
       "\n",
       "    .dataframe tbody tr th {\n",
       "        vertical-align: top;\n",
       "    }\n",
       "\n",
       "    .dataframe thead th {\n",
       "        text-align: right;\n",
       "    }\n",
       "</style>\n",
       "<table border=\"1\" class=\"dataframe\">\n",
       "  <thead>\n",
       "    <tr style=\"text-align: right;\">\n",
       "      <th></th>\n",
       "      <th>구분</th>\n",
       "      <th>성별</th>\n",
       "      <th>연령대</th>\n",
       "      <th>유효회원수</th>\n",
       "      <th>매출건수</th>\n",
       "      <th>매출금액(만원)</th>\n",
       "      <th>건당금액</th>\n",
       "      <th>소액결재</th>\n",
       "      <th>드라이브쓰루</th>\n",
       "      <th>세대</th>\n",
       "    </tr>\n",
       "  </thead>\n",
       "  <tbody>\n",
       "    <tr>\n",
       "      <th>1</th>\n",
       "      <td>커피DT</td>\n",
       "      <td>남성</td>\n",
       "      <td>20대</td>\n",
       "      <td>14622</td>\n",
       "      <td>34348</td>\n",
       "      <td>28449</td>\n",
       "      <td>8282</td>\n",
       "      <td>Yes</td>\n",
       "      <td>Yes</td>\n",
       "      <td>청년</td>\n",
       "    </tr>\n",
       "    <tr>\n",
       "      <th>2</th>\n",
       "      <td>커피DT</td>\n",
       "      <td>남성</td>\n",
       "      <td>30대</td>\n",
       "      <td>13985</td>\n",
       "      <td>29618</td>\n",
       "      <td>27337</td>\n",
       "      <td>9229</td>\n",
       "      <td>Yes</td>\n",
       "      <td>Yes</td>\n",
       "      <td>청년</td>\n",
       "    </tr>\n",
       "    <tr>\n",
       "      <th>7</th>\n",
       "      <td>커피DT</td>\n",
       "      <td>여성</td>\n",
       "      <td>20대</td>\n",
       "      <td>14708</td>\n",
       "      <td>30903</td>\n",
       "      <td>27216</td>\n",
       "      <td>8806</td>\n",
       "      <td>Yes</td>\n",
       "      <td>Yes</td>\n",
       "      <td>청년</td>\n",
       "    </tr>\n",
       "    <tr>\n",
       "      <th>8</th>\n",
       "      <td>커피DT</td>\n",
       "      <td>여성</td>\n",
       "      <td>30대</td>\n",
       "      <td>11918</td>\n",
       "      <td>24399</td>\n",
       "      <td>22922</td>\n",
       "      <td>9394</td>\n",
       "      <td>Yes</td>\n",
       "      <td>Yes</td>\n",
       "      <td>청년</td>\n",
       "    </tr>\n",
       "    <tr>\n",
       "      <th>13</th>\n",
       "      <td>패스트푸드DT</td>\n",
       "      <td>남성</td>\n",
       "      <td>20대</td>\n",
       "      <td>309429</td>\n",
       "      <td>1149950</td>\n",
       "      <td>878159</td>\n",
       "      <td>7636</td>\n",
       "      <td>Yes</td>\n",
       "      <td>Yes</td>\n",
       "      <td>청년</td>\n",
       "    </tr>\n",
       "    <tr>\n",
       "      <th>14</th>\n",
       "      <td>패스트푸드DT</td>\n",
       "      <td>남성</td>\n",
       "      <td>30대</td>\n",
       "      <td>274030</td>\n",
       "      <td>1148255</td>\n",
       "      <td>850586</td>\n",
       "      <td>7407</td>\n",
       "      <td>Yes</td>\n",
       "      <td>Yes</td>\n",
       "      <td>청년</td>\n",
       "    </tr>\n",
       "    <tr>\n",
       "      <th>19</th>\n",
       "      <td>패스트푸드DT</td>\n",
       "      <td>여성</td>\n",
       "      <td>20대</td>\n",
       "      <td>175410</td>\n",
       "      <td>475069</td>\n",
       "      <td>356817</td>\n",
       "      <td>7510</td>\n",
       "      <td>Yes</td>\n",
       "      <td>Yes</td>\n",
       "      <td>청년</td>\n",
       "    </tr>\n",
       "    <tr>\n",
       "      <th>20</th>\n",
       "      <td>패스트푸드DT</td>\n",
       "      <td>여성</td>\n",
       "      <td>30대</td>\n",
       "      <td>179309</td>\n",
       "      <td>553159</td>\n",
       "      <td>428994</td>\n",
       "      <td>7755</td>\n",
       "      <td>Yes</td>\n",
       "      <td>Yes</td>\n",
       "      <td>청년</td>\n",
       "    </tr>\n",
       "    <tr>\n",
       "      <th>25</th>\n",
       "      <td>무인스터디카페</td>\n",
       "      <td>남성</td>\n",
       "      <td>20대</td>\n",
       "      <td>1590</td>\n",
       "      <td>4504</td>\n",
       "      <td>8988</td>\n",
       "      <td>19955</td>\n",
       "      <td>No</td>\n",
       "      <td>No</td>\n",
       "      <td>청년</td>\n",
       "    </tr>\n",
       "    <tr>\n",
       "      <th>26</th>\n",
       "      <td>무인스터디카페</td>\n",
       "      <td>남성</td>\n",
       "      <td>30대</td>\n",
       "      <td>468</td>\n",
       "      <td>1270</td>\n",
       "      <td>3098</td>\n",
       "      <td>24396</td>\n",
       "      <td>No</td>\n",
       "      <td>No</td>\n",
       "      <td>청년</td>\n",
       "    </tr>\n",
       "    <tr>\n",
       "      <th>31</th>\n",
       "      <td>무인스터디카페</td>\n",
       "      <td>여성</td>\n",
       "      <td>20대</td>\n",
       "      <td>1476</td>\n",
       "      <td>3563</td>\n",
       "      <td>6586</td>\n",
       "      <td>18484</td>\n",
       "      <td>No</td>\n",
       "      <td>No</td>\n",
       "      <td>청년</td>\n",
       "    </tr>\n",
       "    <tr>\n",
       "      <th>32</th>\n",
       "      <td>무인스터디카페</td>\n",
       "      <td>여성</td>\n",
       "      <td>30대</td>\n",
       "      <td>340</td>\n",
       "      <td>920</td>\n",
       "      <td>1725</td>\n",
       "      <td>18753</td>\n",
       "      <td>No</td>\n",
       "      <td>No</td>\n",
       "      <td>청년</td>\n",
       "    </tr>\n",
       "    <tr>\n",
       "      <th>37</th>\n",
       "      <td>무인카페</td>\n",
       "      <td>남성</td>\n",
       "      <td>20대</td>\n",
       "      <td>8440</td>\n",
       "      <td>26261</td>\n",
       "      <td>5735</td>\n",
       "      <td>2184</td>\n",
       "      <td>Yes</td>\n",
       "      <td>No</td>\n",
       "      <td>청년</td>\n",
       "    </tr>\n",
       "    <tr>\n",
       "      <th>38</th>\n",
       "      <td>무인카페</td>\n",
       "      <td>남성</td>\n",
       "      <td>30대</td>\n",
       "      <td>5612</td>\n",
       "      <td>16958</td>\n",
       "      <td>3904</td>\n",
       "      <td>2302</td>\n",
       "      <td>Yes</td>\n",
       "      <td>No</td>\n",
       "      <td>청년</td>\n",
       "    </tr>\n",
       "    <tr>\n",
       "      <th>43</th>\n",
       "      <td>무인카페</td>\n",
       "      <td>여성</td>\n",
       "      <td>20대</td>\n",
       "      <td>5168</td>\n",
       "      <td>12470</td>\n",
       "      <td>2847</td>\n",
       "      <td>2283</td>\n",
       "      <td>Yes</td>\n",
       "      <td>No</td>\n",
       "      <td>청년</td>\n",
       "    </tr>\n",
       "    <tr>\n",
       "      <th>44</th>\n",
       "      <td>무인카페</td>\n",
       "      <td>여성</td>\n",
       "      <td>30대</td>\n",
       "      <td>3723</td>\n",
       "      <td>9623</td>\n",
       "      <td>2344</td>\n",
       "      <td>2436</td>\n",
       "      <td>Yes</td>\n",
       "      <td>No</td>\n",
       "      <td>청년</td>\n",
       "    </tr>\n",
       "    <tr>\n",
       "      <th>49</th>\n",
       "      <td>무인편의점</td>\n",
       "      <td>남성</td>\n",
       "      <td>20대</td>\n",
       "      <td>8683</td>\n",
       "      <td>22058</td>\n",
       "      <td>10540</td>\n",
       "      <td>4778</td>\n",
       "      <td>Yes</td>\n",
       "      <td>No</td>\n",
       "      <td>청년</td>\n",
       "    </tr>\n",
       "    <tr>\n",
       "      <th>50</th>\n",
       "      <td>무인편의점</td>\n",
       "      <td>남성</td>\n",
       "      <td>30대</td>\n",
       "      <td>8703</td>\n",
       "      <td>23601</td>\n",
       "      <td>13277</td>\n",
       "      <td>5625</td>\n",
       "      <td>Yes</td>\n",
       "      <td>No</td>\n",
       "      <td>청년</td>\n",
       "    </tr>\n",
       "    <tr>\n",
       "      <th>55</th>\n",
       "      <td>무인편의점</td>\n",
       "      <td>여성</td>\n",
       "      <td>20대</td>\n",
       "      <td>4646</td>\n",
       "      <td>11578</td>\n",
       "      <td>5278</td>\n",
       "      <td>4558</td>\n",
       "      <td>Yes</td>\n",
       "      <td>No</td>\n",
       "      <td>청년</td>\n",
       "    </tr>\n",
       "    <tr>\n",
       "      <th>56</th>\n",
       "      <td>무인편의점</td>\n",
       "      <td>여성</td>\n",
       "      <td>30대</td>\n",
       "      <td>3754</td>\n",
       "      <td>8924</td>\n",
       "      <td>4558</td>\n",
       "      <td>5107</td>\n",
       "      <td>Yes</td>\n",
       "      <td>No</td>\n",
       "      <td>청년</td>\n",
       "    </tr>\n",
       "    <tr>\n",
       "      <th>61</th>\n",
       "      <td>무인아이스크림</td>\n",
       "      <td>남성</td>\n",
       "      <td>20대</td>\n",
       "      <td>47292</td>\n",
       "      <td>133184</td>\n",
       "      <td>43431</td>\n",
       "      <td>3261</td>\n",
       "      <td>Yes</td>\n",
       "      <td>No</td>\n",
       "      <td>청년</td>\n",
       "    </tr>\n",
       "    <tr>\n",
       "      <th>62</th>\n",
       "      <td>무인아이스크림</td>\n",
       "      <td>남성</td>\n",
       "      <td>30대</td>\n",
       "      <td>37057</td>\n",
       "      <td>99496</td>\n",
       "      <td>54097</td>\n",
       "      <td>5437</td>\n",
       "      <td>Yes</td>\n",
       "      <td>No</td>\n",
       "      <td>청년</td>\n",
       "    </tr>\n",
       "    <tr>\n",
       "      <th>67</th>\n",
       "      <td>무인아이스크림</td>\n",
       "      <td>여성</td>\n",
       "      <td>20대</td>\n",
       "      <td>32407</td>\n",
       "      <td>72198</td>\n",
       "      <td>31050</td>\n",
       "      <td>4300</td>\n",
       "      <td>Yes</td>\n",
       "      <td>No</td>\n",
       "      <td>청년</td>\n",
       "    </tr>\n",
       "    <tr>\n",
       "      <th>68</th>\n",
       "      <td>무인아이스크림</td>\n",
       "      <td>여성</td>\n",
       "      <td>30대</td>\n",
       "      <td>31840</td>\n",
       "      <td>77156</td>\n",
       "      <td>42914</td>\n",
       "      <td>5561</td>\n",
       "      <td>Yes</td>\n",
       "      <td>No</td>\n",
       "      <td>청년</td>\n",
       "    </tr>\n",
       "  </tbody>\n",
       "</table>\n",
       "</div>"
      ],
      "text/plain": [
       "         구분  성별  연령대   유효회원수     매출건수  매출금액(만원)   건당금액 소액결재 드라이브쓰루  세대\n",
       "1      커피DT  남성  20대   14622    34348     28449   8282  Yes    Yes  청년\n",
       "2      커피DT  남성  30대   13985    29618     27337   9229  Yes    Yes  청년\n",
       "7      커피DT  여성  20대   14708    30903     27216   8806  Yes    Yes  청년\n",
       "8      커피DT  여성  30대   11918    24399     22922   9394  Yes    Yes  청년\n",
       "13  패스트푸드DT  남성  20대  309429  1149950    878159   7636  Yes    Yes  청년\n",
       "14  패스트푸드DT  남성  30대  274030  1148255    850586   7407  Yes    Yes  청년\n",
       "19  패스트푸드DT  여성  20대  175410   475069    356817   7510  Yes    Yes  청년\n",
       "20  패스트푸드DT  여성  30대  179309   553159    428994   7755  Yes    Yes  청년\n",
       "25  무인스터디카페  남성  20대    1590     4504      8988  19955   No     No  청년\n",
       "26  무인스터디카페  남성  30대     468     1270      3098  24396   No     No  청년\n",
       "31  무인스터디카페  여성  20대    1476     3563      6586  18484   No     No  청년\n",
       "32  무인스터디카페  여성  30대     340      920      1725  18753   No     No  청년\n",
       "37     무인카페  남성  20대    8440    26261      5735   2184  Yes     No  청년\n",
       "38     무인카페  남성  30대    5612    16958      3904   2302  Yes     No  청년\n",
       "43     무인카페  여성  20대    5168    12470      2847   2283  Yes     No  청년\n",
       "44     무인카페  여성  30대    3723     9623      2344   2436  Yes     No  청년\n",
       "49    무인편의점  남성  20대    8683    22058     10540   4778  Yes     No  청년\n",
       "50    무인편의점  남성  30대    8703    23601     13277   5625  Yes     No  청년\n",
       "55    무인편의점  여성  20대    4646    11578      5278   4558  Yes     No  청년\n",
       "56    무인편의점  여성  30대    3754     8924      4558   5107  Yes     No  청년\n",
       "61  무인아이스크림  남성  20대   47292   133184     43431   3261  Yes     No  청년\n",
       "62  무인아이스크림  남성  30대   37057    99496     54097   5437  Yes     No  청년\n",
       "67  무인아이스크림  여성  20대   32407    72198     31050   4300  Yes     No  청년\n",
       "68  무인아이스크림  여성  30대   31840    77156     42914   5561  Yes     No  청년"
      ]
     },
     "execution_count": 70,
     "metadata": {},
     "output_type": "execute_result"
    }
   ],
   "source": [
    "# df에서 '세대'가 '청년'인 행만 선택하여 df6에 저장하세요.\n",
    "df6 = df.loc[df['세대']=='청년',:]\n",
    "df6"
   ]
  },
  {
   "cell_type": "code",
   "execution_count": 71,
   "metadata": {
    "ExecuteTime": {
     "end_time": "2022-03-07T07:46:02.144198Z",
     "start_time": "2022-03-07T07:46:02.129195Z"
    }
   },
   "outputs": [
    {
     "data": {
      "text/html": [
       "<div>\n",
       "<style scoped>\n",
       "    .dataframe tbody tr th:only-of-type {\n",
       "        vertical-align: middle;\n",
       "    }\n",
       "\n",
       "    .dataframe tbody tr th {\n",
       "        vertical-align: top;\n",
       "    }\n",
       "\n",
       "    .dataframe thead th {\n",
       "        text-align: right;\n",
       "    }\n",
       "</style>\n",
       "<table border=\"1\" class=\"dataframe\">\n",
       "  <thead>\n",
       "    <tr style=\"text-align: right;\">\n",
       "      <th></th>\n",
       "      <th>유효회원수</th>\n",
       "      <th>건당금액</th>\n",
       "    </tr>\n",
       "    <tr>\n",
       "      <th>구분</th>\n",
       "      <th></th>\n",
       "      <th></th>\n",
       "    </tr>\n",
       "  </thead>\n",
       "  <tbody>\n",
       "    <tr>\n",
       "      <th>무인스터디카페</th>\n",
       "      <td>3874</td>\n",
       "      <td>20397.00</td>\n",
       "    </tr>\n",
       "    <tr>\n",
       "      <th>무인아이스크림</th>\n",
       "      <td>148596</td>\n",
       "      <td>4639.75</td>\n",
       "    </tr>\n",
       "    <tr>\n",
       "      <th>무인카페</th>\n",
       "      <td>22943</td>\n",
       "      <td>2301.25</td>\n",
       "    </tr>\n",
       "    <tr>\n",
       "      <th>무인편의점</th>\n",
       "      <td>25786</td>\n",
       "      <td>5017.00</td>\n",
       "    </tr>\n",
       "    <tr>\n",
       "      <th>커피DT</th>\n",
       "      <td>55233</td>\n",
       "      <td>8927.75</td>\n",
       "    </tr>\n",
       "    <tr>\n",
       "      <th>패스트푸드DT</th>\n",
       "      <td>938178</td>\n",
       "      <td>7577.00</td>\n",
       "    </tr>\n",
       "  </tbody>\n",
       "</table>\n",
       "</div>"
      ],
      "text/plain": [
       "          유효회원수      건당금액\n",
       "구분                       \n",
       "무인스터디카페    3874  20397.00\n",
       "무인아이스크림  148596   4639.75\n",
       "무인카페      22943   2301.25\n",
       "무인편의점     25786   5017.00\n",
       "커피DT      55233   8927.75\n",
       "패스트푸드DT  938178   7577.00"
      ]
     },
     "execution_count": 71,
     "metadata": {},
     "output_type": "execute_result"
    }
   ],
   "source": [
    "# df6의 '구분' 별 '유효회원수'의 합, '건당금액'의 평균을 구하세요.\n",
    "df6 = df6.pivot_table(index='구분',values=['유효회원수','건당금액'],\n",
    "                      aggfunc={'유효회원수':'sum','건당금액':'mean'}).reindex(columns=['유효회원수','건당금액'])\n",
    "\n",
    "df6"
   ]
  },
  {
   "cell_type": "code",
   "execution_count": 72,
   "metadata": {
    "ExecuteTime": {
     "end_time": "2022-03-07T07:46:02.160202Z",
     "start_time": "2022-03-07T07:46:02.146198Z"
    }
   },
   "outputs": [
    {
     "data": {
      "text/html": [
       "<div>\n",
       "<style scoped>\n",
       "    .dataframe tbody tr th:only-of-type {\n",
       "        vertical-align: middle;\n",
       "    }\n",
       "\n",
       "    .dataframe tbody tr th {\n",
       "        vertical-align: top;\n",
       "    }\n",
       "\n",
       "    .dataframe thead th {\n",
       "        text-align: right;\n",
       "    }\n",
       "</style>\n",
       "<table border=\"1\" class=\"dataframe\">\n",
       "  <thead>\n",
       "    <tr style=\"text-align: right;\">\n",
       "      <th></th>\n",
       "      <th>구분</th>\n",
       "      <th>유효회원수</th>\n",
       "      <th>건당금액</th>\n",
       "    </tr>\n",
       "  </thead>\n",
       "  <tbody>\n",
       "    <tr>\n",
       "      <th>5</th>\n",
       "      <td>패스트푸드DT</td>\n",
       "      <td>938178</td>\n",
       "      <td>7577.00</td>\n",
       "    </tr>\n",
       "    <tr>\n",
       "      <th>1</th>\n",
       "      <td>무인아이스크림</td>\n",
       "      <td>148596</td>\n",
       "      <td>4639.75</td>\n",
       "    </tr>\n",
       "    <tr>\n",
       "      <th>4</th>\n",
       "      <td>커피DT</td>\n",
       "      <td>55233</td>\n",
       "      <td>8927.75</td>\n",
       "    </tr>\n",
       "    <tr>\n",
       "      <th>3</th>\n",
       "      <td>무인편의점</td>\n",
       "      <td>25786</td>\n",
       "      <td>5017.00</td>\n",
       "    </tr>\n",
       "    <tr>\n",
       "      <th>2</th>\n",
       "      <td>무인카페</td>\n",
       "      <td>22943</td>\n",
       "      <td>2301.25</td>\n",
       "    </tr>\n",
       "    <tr>\n",
       "      <th>0</th>\n",
       "      <td>무인스터디카페</td>\n",
       "      <td>3874</td>\n",
       "      <td>20397.00</td>\n",
       "    </tr>\n",
       "  </tbody>\n",
       "</table>\n",
       "</div>"
      ],
      "text/plain": [
       "        구분   유효회원수      건당금액\n",
       "5  패스트푸드DT  938178   7577.00\n",
       "1  무인아이스크림  148596   4639.75\n",
       "4     커피DT   55233   8927.75\n",
       "3    무인편의점   25786   5017.00\n",
       "2     무인카페   22943   2301.25\n",
       "0  무인스터디카페    3874  20397.00"
      ]
     },
     "execution_count": 72,
     "metadata": {},
     "output_type": "execute_result"
    }
   ],
   "source": [
    "# 인덱스를 초기화한 후, '유효회원수'를 기준으로 내림차순으로 정렬하세요.\n",
    "df6 = df6.reset_index()\n",
    "df6 = df6.sort_values(by='유효회원수',ascending=False)\n",
    "\n",
    "df6"
   ]
  },
  {
   "cell_type": "code",
   "execution_count": 73,
   "metadata": {
    "ExecuteTime": {
     "end_time": "2022-03-07T07:46:02.381706Z",
     "start_time": "2022-03-07T07:46:02.162203Z"
    }
   },
   "outputs": [
    {
     "data": {
      "image/png": "[encoded data removed]",
      "text/plain": [
       "<Figure size 720x432 with 2 Axes>"
      ]
     },
     "metadata": {
      "needs_background": "light"
     },
     "output_type": "display_data"
    }
   ],
   "source": [
    "fig, ax = plt.subplots()\n",
    "ax2 = ax.twinx()\n",
    "\n",
    "\n",
    "sns.barplot(ax = ax, data = df6,\n",
    "            x = '구분', y = '유효회원수', palette = 'hls')\n",
    "sns.lineplot(ax = ax2, data = df6,\n",
    "            x = '구분', y = '건당금액', label = '건당금액', palette = 'hls',\n",
    "            color = 'red', marker = 'o', markersize = 8, markeredgewidth = 0.5)\n",
    "\n",
    "ax2.legend(loc = 'upper center')\n",
    "plt.title('20, 30대 이용 현황', fontsize = 16, y = 1.05)\n",
    "plt.grid(axis = 'y', color = 'lightgray', linestyle = '--', linewidth = 1.5)\n",
    "plt.show()"
   ]
  }
 ],
 "metadata": {
  "kernelspec": {
   "display_name": "Python 3 (ipykernel)",
   "language": "python",
   "name": "python3"
  },
  "language_info": {
   "codemirror_mode": {
    "name": "ipython",
    "version": 3
   },
   "file_extension": ".py",
   "mimetype": "text/x-python",
   "name": "python",
   "nbconvert_exporter": "python",
   "pygments_lexer": "ipython3",
   "version": "3.9.7"
  },
  "toc": {
   "base_numbering": 1,
   "nav_menu": {},
   "number_sections": true,
   "sideBar": true,
   "skip_h1_title": false,
   "title_cell": "Table of Contents",
   "title_sidebar": "Contents",
   "toc_cell": false,
   "toc_position": {},
   "toc_section_display": true,
   "toc_window_display": false
  },
  "varInspector": {
   "cols": {
    "lenName": 16,
    "lenType": 16,
    "lenVar": 40
   },
   "kernels_config": {
    "python": {
     "delete_cmd_postfix": "",
     "delete_cmd_prefix": "del ",
     "library": "var_list.py",
     "varRefreshCmd": "print(var_dic_list())"
    },
    "r": {
     "delete_cmd_postfix": ") ",
     "delete_cmd_prefix": "rm(",
     "library": "var_list.r",
     "varRefreshCmd": "cat(var_dic_list()) "
    }
   },
   "types_to_exclude": [
    "module",
    "function",
    "builtin_function_or_method",
    "instance",
    "_Feature"
   ],
   "window_display": false
  }
 },
 "nbformat": 4,
 "nbformat_minor": 4
}
