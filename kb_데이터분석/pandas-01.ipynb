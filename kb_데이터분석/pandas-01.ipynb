{
 "cells": [
  {
   "cell_type": "code",
   "execution_count": 1,
   "id": "2a979929",
   "metadata": {},
   "outputs": [
    {
     "data": {
      "text/plain": [
       "'1.3.4'"
      ]
     },
     "execution_count": 1,
     "metadata": {},
     "output_type": "execute_result"
    }
   ],
   "source": [
    "import pandas as pd\n",
    "pd.__version__"
   ]
  },
  {
   "cell_type": "code",
   "execution_count": 2,
   "id": "9e059edd",
   "metadata": {},
   "outputs": [
    {
     "data": {
      "text/plain": [
       "'1.20.3'"
      ]
     },
     "execution_count": 2,
     "metadata": {},
     "output_type": "execute_result"
    }
   ],
   "source": [
    "import numpy as np\n",
    "np.__version__"
   ]
  },
  {
   "cell_type": "code",
   "execution_count": 7,
   "id": "055ae41e",
   "metadata": {},
   "outputs": [
    {
     "data": {
      "text/plain": [
       "0    홍\n",
       "1    김\n",
       "2    박\n",
       "dtype: object"
      ]
     },
     "execution_count": 7,
     "metadata": {},
     "output_type": "execute_result"
    }
   ],
   "source": [
    "s1 = pd.Series([1,3,5])\n",
    "s1\n",
    "from pandas import Series, DataFrame\n",
    "s1 = Series([2,4,6])\n",
    "s1\n",
    "m1 = pd.Series(['홍','김','박'])\n",
    "m1"
   ]
  },
  {
   "cell_type": "code",
   "execution_count": 8,
   "id": "77b904dd",
   "metadata": {},
   "outputs": [
    {
     "data": {
      "text/plain": [
       "'홍'"
      ]
     },
     "execution_count": 8,
     "metadata": {},
     "output_type": "execute_result"
    }
   ],
   "source": [
    "m1[0]"
   ]
  },
  {
   "cell_type": "code",
   "execution_count": 9,
   "id": "f383f99d",
   "metadata": {},
   "outputs": [
    {
     "data": {
      "text/plain": [
       "RangeIndex(start=0, stop=3, step=1)"
      ]
     },
     "execution_count": 9,
     "metadata": {},
     "output_type": "execute_result"
    }
   ],
   "source": [
    "m1.index"
   ]
  },
  {
   "cell_type": "code",
   "execution_count": 21,
   "id": "da2e8081",
   "metadata": {},
   "outputs": [
    {
     "data": {
      "text/plain": [
       "'홍'"
      ]
     },
     "execution_count": 21,
     "metadata": {},
     "output_type": "execute_result"
    }
   ],
   "source": [
    "m1 = pd.Series(\n",
    "    ['홍','김','박'],\n",
    "    index=list('abc'))\n",
    "\n",
    "# for i in m1.index :\n",
    "#     print(i,m1[i])\n",
    "\n",
    "m1['a']\n",
    "m1[0]"
   ]
  },
  {
   "cell_type": "code",
   "execution_count": 24,
   "id": "ab4d9bef",
   "metadata": {},
   "outputs": [
    {
     "data": {
      "text/plain": [
       "array(['홍', '김', '박'], dtype=object)"
      ]
     },
     "execution_count": 24,
     "metadata": {},
     "output_type": "execute_result"
    }
   ],
   "source": [
    "m1 = pd.Series(['홍','김','박'],)\n",
    "m1.index = list('abc')\n",
    "m1.values"
   ]
  },
  {
   "cell_type": "code",
   "execution_count": 25,
   "id": "edbf9f8b",
   "metadata": {},
   "outputs": [
    {
     "data": {
      "text/plain": [
       "((3,), 1)"
      ]
     },
     "execution_count": 25,
     "metadata": {},
     "output_type": "execute_result"
    }
   ],
   "source": [
    "m1.shape, m1.ndim"
   ]
  },
  {
   "cell_type": "code",
   "execution_count": 26,
   "id": "a0a90aa5",
   "metadata": {},
   "outputs": [
    {
     "data": {
      "text/plain": [
       "c    박\n",
       "a    홍\n",
       "dtype: object"
      ]
     },
     "execution_count": 26,
     "metadata": {},
     "output_type": "execute_result"
    }
   ],
   "source": [
    "m1[ ['c','a' ]]"
   ]
  },
  {
   "cell_type": "code",
   "execution_count": 27,
   "id": "9f070172",
   "metadata": {},
   "outputs": [
    {
     "data": {
      "text/plain": [
       "a    홍\n",
       "c    박\n",
       "dtype: object"
      ]
     },
     "execution_count": 27,
     "metadata": {},
     "output_type": "execute_result"
    }
   ],
   "source": [
    "m1[ [True,False,True] ]"
   ]
  },
  {
   "cell_type": "code",
   "execution_count": 29,
   "id": "7e6bc9a3",
   "metadata": {},
   "outputs": [
    {
     "data": {
      "text/plain": [
       "a    홍\n",
       "dtype: object"
      ]
     },
     "execution_count": 29,
     "metadata": {},
     "output_type": "execute_result"
    }
   ],
   "source": [
    "m1[ m1 == '홍']"
   ]
  },
  {
   "cell_type": "code",
   "execution_count": 37,
   "id": "0bacbd48",
   "metadata": {},
   "outputs": [
    {
     "name": "stdout",
     "output_type": "stream",
     "text": [
      "12\n",
      "\n",
      "0    False\n",
      "1    False\n",
      "2    False\n",
      "dtype: bool\n",
      "\n",
      "0\n"
     ]
    }
   ],
   "source": [
    "print(s1.sum())\n",
    "print()\n",
    "print(s1.isna())\n",
    "print()\n",
    "print(s1.isna().sum())  # True = 1 / False = 0"
   ]
  },
  {
   "cell_type": "code",
   "execution_count": 42,
   "id": "8004de25",
   "metadata": {},
   "outputs": [
    {
     "name": "stdout",
     "output_type": "stream",
     "text": [
      "d    4\n",
      "e    5\n",
      "f    6\n",
      "g    7\n",
      "dtype: int32\n",
      "d    4\n",
      "e    5\n",
      "f    6\n",
      "g    7\n",
      "dtype: int32\n"
     ]
    }
   ],
   "source": [
    "s2 = pd.Series(\n",
    "    np.arange(1,11),\n",
    "    index = list(\"abcdefghij\")\n",
    ")\n",
    "print(s2[3:7])\n",
    "print(s2['d':'g'])"
   ]
  }
 ],
 "metadata": {
  "kernelspec": {
   "display_name": "Python 3 (ipykernel)",
   "language": "python",
   "name": "python3"
  },
  "language_info": {
   "codemirror_mode": {
    "name": "ipython",
    "version": 3
   },
   "file_extension": ".py",
   "mimetype": "text/x-python",
   "name": "python",
   "nbconvert_exporter": "python",
   "pygments_lexer": "ipython3",
   "version": "3.9.7"
  }
 },
 "nbformat": 4,
 "nbformat_minor": 5
}
