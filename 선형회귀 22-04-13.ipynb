{
 "cells": [
  {
   "cell_type": "code",
   "execution_count": 5,
   "id": "78f51e77",
   "metadata": {},
   "outputs": [
    {
     "data": {
      "text/html": [
       "<div>\n",
       "<style scoped>\n",
       "    .dataframe tbody tr th:only-of-type {\n",
       "        vertical-align: middle;\n",
       "    }\n",
       "\n",
       "    .dataframe tbody tr th {\n",
       "        vertical-align: top;\n",
       "    }\n",
       "\n",
       "    .dataframe thead th {\n",
       "        text-align: right;\n",
       "    }\n",
       "</style>\n",
       "<table border=\"1\" class=\"dataframe\">\n",
       "  <thead>\n",
       "    <tr style=\"text-align: right;\">\n",
       "      <th></th>\n",
       "      <th>1</th>\n",
       "      <th>x0</th>\n",
       "      <th>x0^2</th>\n",
       "    </tr>\n",
       "  </thead>\n",
       "  <tbody>\n",
       "    <tr>\n",
       "      <th>0</th>\n",
       "      <td>1.0</td>\n",
       "      <td>0.0</td>\n",
       "      <td>0.0</td>\n",
       "    </tr>\n",
       "    <tr>\n",
       "      <th>1</th>\n",
       "      <td>1.0</td>\n",
       "      <td>1.0</td>\n",
       "      <td>1.0</td>\n",
       "    </tr>\n",
       "    <tr>\n",
       "      <th>2</th>\n",
       "      <td>1.0</td>\n",
       "      <td>2.0</td>\n",
       "      <td>4.0</td>\n",
       "    </tr>\n",
       "    <tr>\n",
       "      <th>3</th>\n",
       "      <td>1.0</td>\n",
       "      <td>3.0</td>\n",
       "      <td>9.0</td>\n",
       "    </tr>\n",
       "    <tr>\n",
       "      <th>4</th>\n",
       "      <td>1.0</td>\n",
       "      <td>4.0</td>\n",
       "      <td>16.0</td>\n",
       "    </tr>\n",
       "  </tbody>\n",
       "</table>\n",
       "</div>"
      ],
      "text/plain": [
       "     1   x0  x0^2\n",
       "0  1.0  0.0   0.0\n",
       "1  1.0  1.0   1.0\n",
       "2  1.0  2.0   4.0\n",
       "3  1.0  3.0   9.0\n",
       "4  1.0  4.0  16.0"
      ]
     },
     "execution_count": 5,
     "metadata": {},
     "output_type": "execute_result"
    }
   ],
   "source": [
    "from sklearn.preprocessing import PolynomialFeatures\n",
    "import numpy as np\n",
    "import pandas as pd\n",
    "\n",
    "P = PolynomialFeatures(degree=2)\n",
    "x = np.arange(5).reshape(-1,1)\n",
    "\n",
    "pd.DataFrame(P.fit_transform(x),\n",
    "            columns=P.get_feature_names())"
   ]
  },
  {
   "cell_type": "code",
   "execution_count": 7,
   "id": "a540790c",
   "metadata": {},
   "outputs": [
    {
     "data": {
      "text/html": [
       "<div>\n",
       "<style scoped>\n",
       "    .dataframe tbody tr th:only-of-type {\n",
       "        vertical-align: middle;\n",
       "    }\n",
       "\n",
       "    .dataframe tbody tr th {\n",
       "        vertical-align: top;\n",
       "    }\n",
       "\n",
       "    .dataframe thead th {\n",
       "        text-align: right;\n",
       "    }\n",
       "</style>\n",
       "<table border=\"1\" class=\"dataframe\">\n",
       "  <thead>\n",
       "    <tr style=\"text-align: right;\">\n",
       "      <th></th>\n",
       "      <th>x0</th>\n",
       "      <th>x1</th>\n",
       "      <th>x0^2</th>\n",
       "      <th>x0 x1</th>\n",
       "      <th>x1^2</th>\n",
       "    </tr>\n",
       "  </thead>\n",
       "  <tbody>\n",
       "    <tr>\n",
       "      <th>0</th>\n",
       "      <td>0.0</td>\n",
       "      <td>1.0</td>\n",
       "      <td>0.0</td>\n",
       "      <td>0.0</td>\n",
       "      <td>1.0</td>\n",
       "    </tr>\n",
       "    <tr>\n",
       "      <th>1</th>\n",
       "      <td>2.0</td>\n",
       "      <td>3.0</td>\n",
       "      <td>4.0</td>\n",
       "      <td>6.0</td>\n",
       "      <td>9.0</td>\n",
       "    </tr>\n",
       "    <tr>\n",
       "      <th>2</th>\n",
       "      <td>4.0</td>\n",
       "      <td>5.0</td>\n",
       "      <td>16.0</td>\n",
       "      <td>20.0</td>\n",
       "      <td>25.0</td>\n",
       "    </tr>\n",
       "    <tr>\n",
       "      <th>3</th>\n",
       "      <td>6.0</td>\n",
       "      <td>7.0</td>\n",
       "      <td>36.0</td>\n",
       "      <td>42.0</td>\n",
       "      <td>49.0</td>\n",
       "    </tr>\n",
       "    <tr>\n",
       "      <th>4</th>\n",
       "      <td>8.0</td>\n",
       "      <td>9.0</td>\n",
       "      <td>64.0</td>\n",
       "      <td>72.0</td>\n",
       "      <td>81.0</td>\n",
       "    </tr>\n",
       "  </tbody>\n",
       "</table>\n",
       "</div>"
      ],
      "text/plain": [
       "    x0   x1  x0^2  x0 x1  x1^2\n",
       "0  0.0  1.0   0.0    0.0   1.0\n",
       "1  2.0  3.0   4.0    6.0   9.0\n",
       "2  4.0  5.0  16.0   20.0  25.0\n",
       "3  6.0  7.0  36.0   42.0  49.0\n",
       "4  8.0  9.0  64.0   72.0  81.0"
      ]
     },
     "execution_count": 7,
     "metadata": {},
     "output_type": "execute_result"
    }
   ],
   "source": [
    "from sklearn.preprocessing import PolynomialFeatures\n",
    "import numpy as np\n",
    "import pandas as pd\n",
    "\n",
    "P = PolynomialFeatures(degree=2,include_bias=False)\n",
    "x = np.arange(10).reshape(-1,2)\n",
    "\n",
    "pd.DataFrame(P.fit_transform(x),\n",
    "            columns=P.get_feature_names())"
   ]
  },
  {
   "cell_type": "code",
   "execution_count": 19,
   "id": "c7c17425",
   "metadata": {},
   "outputs": [
    {
     "data": {
      "text/plain": [
       "(506, 2)"
      ]
     },
     "execution_count": 19,
     "metadata": {},
     "output_type": "execute_result"
    }
   ],
   "source": [
    "from sklearn.datasets import load_boston\n",
    "import pandas as pd\n",
    "boston = load_boston()\n",
    "boston_df = pd.DataFrame(boston.data,\n",
    "                     columns=boston.feature_names)\n",
    "boston_df['PRICE'] = boston.target\n",
    "x = boston_df.loc[:,['RM','AGE']]\n",
    "y = boston_df.loc[:,'PRICE']\n",
    "x.shape"
   ]
  },
  {
   "cell_type": "code",
   "execution_count": 20,
   "id": "dbb96917",
   "metadata": {},
   "outputs": [
    {
     "data": {
      "text/plain": [
       "(0.5465325626978874, 0.4812640964706031)"
      ]
     },
     "execution_count": 20,
     "metadata": {},
     "output_type": "execute_result"
    }
   ],
   "source": [
    "from sklearn.model_selection import train_test_split\n",
    "x_tr, x_te, y_tr, y_te = train_test_split(\n",
    "    x,y,random_state=20220413,test_size=0.25\n",
    ")\n",
    "\n",
    "from sklearn.linear_model import LinearRegression\n",
    "model = LinearRegression().fit(x_tr,y_tr)\n",
    "model.score(x_tr,y_tr), model.score(x_te, y_te)"
   ]
  },
  {
   "cell_type": "code",
   "execution_count": 24,
   "id": "0e85868b",
   "metadata": {
    "scrolled": true
   },
   "outputs": [
    {
     "data": {
      "text/plain": [
       "['x0', 'x1', 'x0^2', 'x0 x1', 'x1^2', 'x0^3', 'x0^2 x1', 'x0 x1^2', 'x1^3']"
      ]
     },
     "execution_count": 24,
     "metadata": {},
     "output_type": "execute_result"
    }
   ],
   "source": [
    "from sklearn.preprocessing import PolynomialFeatures\n",
    "P = PolynomialFeatures(degree=3,include_bias = False)\n",
    "x_poly = P.fit_transform(x)\n",
    "x_poly.shape # 원래 x는 2열밖에 없었는데 (a+b)^3 이어서 9개의 열로 증가함.\n",
    "P.get_feature_names()"
   ]
  },
  {
   "cell_type": "markdown",
   "id": "d09aefdf",
   "metadata": {},
   "source": [
    "- Polynomial Features 부분"
   ]
  },
  {
   "cell_type": "code",
   "execution_count": 31,
   "id": "2f90f39b",
   "metadata": {},
   "outputs": [
    {
     "data": {
      "text/plain": [
       "['x0',\n",
       " 'x1',\n",
       " 'x0^2',\n",
       " 'x0 x1',\n",
       " 'x1^2',\n",
       " 'x0^3',\n",
       " 'x0^2 x1',\n",
       " 'x0 x1^2',\n",
       " 'x1^3',\n",
       " 'x0^4',\n",
       " 'x0^3 x1',\n",
       " 'x0^2 x1^2',\n",
       " 'x0 x1^3',\n",
       " 'x1^4',\n",
       " 'x0^5',\n",
       " 'x0^4 x1',\n",
       " 'x0^3 x1^2',\n",
       " 'x0^2 x1^3',\n",
       " 'x0 x1^4',\n",
       " 'x1^5',\n",
       " 'x0^6',\n",
       " 'x0^5 x1',\n",
       " 'x0^4 x1^2',\n",
       " 'x0^3 x1^3',\n",
       " 'x0^2 x1^4',\n",
       " 'x0 x1^5',\n",
       " 'x1^6',\n",
       " 'x0^7',\n",
       " 'x0^6 x1',\n",
       " 'x0^5 x1^2',\n",
       " 'x0^4 x1^3',\n",
       " 'x0^3 x1^4',\n",
       " 'x0^2 x1^5',\n",
       " 'x0 x1^6',\n",
       " 'x1^7',\n",
       " 'x0^8',\n",
       " 'x0^7 x1',\n",
       " 'x0^6 x1^2',\n",
       " 'x0^5 x1^3',\n",
       " 'x0^4 x1^4',\n",
       " 'x0^3 x1^5',\n",
       " 'x0^2 x1^6',\n",
       " 'x0 x1^7',\n",
       " 'x1^8',\n",
       " 'x0^9',\n",
       " 'x0^8 x1',\n",
       " 'x0^7 x1^2',\n",
       " 'x0^6 x1^3',\n",
       " 'x0^5 x1^4',\n",
       " 'x0^4 x1^5',\n",
       " 'x0^3 x1^6',\n",
       " 'x0^2 x1^7',\n",
       " 'x0 x1^8',\n",
       " 'x1^9',\n",
       " 'x0^10',\n",
       " 'x0^9 x1',\n",
       " 'x0^8 x1^2',\n",
       " 'x0^7 x1^3',\n",
       " 'x0^6 x1^4',\n",
       " 'x0^5 x1^5',\n",
       " 'x0^4 x1^6',\n",
       " 'x0^3 x1^7',\n",
       " 'x0^2 x1^8',\n",
       " 'x0 x1^9',\n",
       " 'x1^10']"
      ]
     },
     "execution_count": 31,
     "metadata": {},
     "output_type": "execute_result"
    }
   ],
   "source": [
    "from sklearn.preprocessing import PolynomialFeatures\n",
    "P = PolynomialFeatures(degree=10,include_bias = False)\n",
    "x_poly = P.fit_transform(x)\n",
    "x_poly.shape # 원래 x는 2열밖에 없었는데 (a+b)^3 이어서 9개의 열로 증가함.\n",
    "P.get_feature_names()"
   ]
  },
  {
   "cell_type": "code",
   "execution_count": 32,
   "id": "aa4edf95",
   "metadata": {},
   "outputs": [
    {
     "data": {
      "text/plain": [
       "(0.6340929515090807, 0.4429062140771971)"
      ]
     },
     "execution_count": 32,
     "metadata": {},
     "output_type": "execute_result"
    }
   ],
   "source": [
    "from sklearn.model_selection import train_test_split\n",
    "x_tr, x_te, y_tr, y_te = train_test_split(\n",
    "    x_poly,y,random_state=20220413,test_size=0.25\n",
    ")\n",
    "\n",
    "from sklearn.linear_model import LinearRegression\n",
    "model = LinearRegression().fit(x_tr,y_tr)\n",
    "model.score(x_tr,y_tr), model.score(x_te, y_te)"
   ]
  },
  {
   "cell_type": "markdown",
   "id": "cf79bb98",
   "metadata": {},
   "source": [
    "- 보스턴 열(=13개) 전부 다 돌려보기"
   ]
  },
  {
   "cell_type": "code",
   "execution_count": 35,
   "id": "962eaf48",
   "metadata": {},
   "outputs": [
    {
     "data": {
      "text/plain": [
       "(506, 13)"
      ]
     },
     "execution_count": 35,
     "metadata": {},
     "output_type": "execute_result"
    }
   ],
   "source": [
    "from sklearn.datasets import load_boston\n",
    "import pandas as pd\n",
    "boston = load_boston()\n",
    "boston_df = pd.DataFrame(boston.data,\n",
    "                     columns=boston.feature_names)\n",
    "boston_df['PRICE'] = boston.target\n",
    "x = boston_df.iloc[:,:-1]\n",
    "y = boston_df.loc[:,'PRICE']\n",
    "x.shape"
   ]
  },
  {
   "cell_type": "code",
   "execution_count": 42,
   "id": "498730e8",
   "metadata": {},
   "outputs": [
    {
     "data": {
      "text/plain": [
       "(506, 104)"
      ]
     },
     "execution_count": 42,
     "metadata": {},
     "output_type": "execute_result"
    }
   ],
   "source": [
    "from sklearn.preprocessing import PolynomialFeatures\n",
    "P = PolynomialFeatures(degree=2,include_bias = False)\n",
    "x_poly = P.fit_transform(x)\n",
    "x_poly.shape # 원래 x는 2열밖에 없었는데 (a+b)^3 이어서 9개의 열로 증가함.\n",
    "# P.get_feature_names()"
   ]
  },
  {
   "cell_type": "code",
   "execution_count": 43,
   "id": "312e47e2",
   "metadata": {},
   "outputs": [
    {
     "data": {
      "text/plain": [
       "(0.9520519609032729, 0.6074721959700633)"
      ]
     },
     "execution_count": 43,
     "metadata": {},
     "output_type": "execute_result"
    }
   ],
   "source": [
    "from sklearn.model_selection import train_test_split\n",
    "x_tr, x_te, y_tr, y_te = train_test_split(\n",
    "    x_poly,y,random_state=0,test_size=0.25\n",
    ")\n",
    "\n",
    "from sklearn.linear_model import LinearRegression\n",
    "model = LinearRegression().fit(x_tr,y_tr)\n",
    "model.score(x_tr,y_tr), model.score(x_te, y_te) # 과대적합 현상 발생. train score는 높고 test score는 낮고."
   ]
  },
  {
   "cell_type": "code",
   "execution_count": 55,
   "id": "97b6eeaf",
   "metadata": {},
   "outputs": [
    {
     "data": {
      "text/plain": [
       "(0.951903192026132, 0.5773683835297365)"
      ]
     },
     "execution_count": 55,
     "metadata": {},
     "output_type": "execute_result"
    }
   ],
   "source": [
    "from sklearn.linear_model import Ridge\n",
    "model = Ridge(alpha=0.01).fit(x_tr,y_tr)\n",
    "model.score(x_tr,y_tr), model.score(x_te, y_te)"
   ]
  }
 ],
 "metadata": {
  "kernelspec": {
   "display_name": "Python 3 (ipykernel)",
   "language": "python",
   "name": "python3"
  },
  "language_info": {
   "codemirror_mode": {
    "name": "ipython",
    "version": 3
   },
   "file_extension": ".py",
   "mimetype": "text/x-python",
   "name": "python",
   "nbconvert_exporter": "python",
   "pygments_lexer": "ipython3",
   "version": "3.9.7"
  }
 },
 "nbformat": 4,
 "nbformat_minor": 5
}
